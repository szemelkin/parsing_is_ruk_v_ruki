{
 "cells": [
  {
   "cell_type": "code",
   "execution_count": 65,
   "metadata": {
    "collapsed": false
   },
   "outputs": [
    {
     "ename": "ImportError",
     "evalue": "No module named sklearn.feature_extraction.text",
     "output_type": "error",
     "traceback": [
      "\u001b[1;31m---------------------------------------------------------------------------\u001b[0m",
      "\u001b[1;31mImportError\u001b[0m                               Traceback (most recent call last)",
      "\u001b[1;32m<ipython-input-65-8ac8656fb381>\u001b[0m in \u001b[0;36m<module>\u001b[1;34m()\u001b[0m\n\u001b[0;32m      2\u001b[0m \u001b[1;32mfrom\u001b[0m \u001b[0mIPython\u001b[0m\u001b[1;33m.\u001b[0m\u001b[0mdisplay\u001b[0m \u001b[1;32mimport\u001b[0m \u001b[0mdisplay\u001b[0m\u001b[1;33m,\u001b[0m \u001b[0mMath\u001b[0m\u001b[1;33m\u001b[0m\u001b[0m\n\u001b[0;32m      3\u001b[0m \u001b[1;33m\u001b[0m\u001b[0m\n\u001b[1;32m----> 4\u001b[1;33m \u001b[1;32mfrom\u001b[0m \u001b[0msklearn\u001b[0m\u001b[1;33m.\u001b[0m\u001b[0mfeature_extraction\u001b[0m\u001b[1;33m.\u001b[0m\u001b[0mtext\u001b[0m \u001b[1;32mimport\u001b[0m \u001b[0mCountVectorizer\u001b[0m\u001b[1;33m,\u001b[0m \u001b[0mTfidfTransformer\u001b[0m\u001b[1;33m\u001b[0m\u001b[0m\n\u001b[0m\u001b[0;32m      5\u001b[0m \u001b[1;32mimport\u001b[0m \u001b[0mnumpy\u001b[0m \u001b[1;32mas\u001b[0m \u001b[0mnp\u001b[0m\u001b[1;33m\u001b[0m\u001b[0m\n\u001b[0;32m      6\u001b[0m \u001b[1;32mimport\u001b[0m \u001b[0mscipy\u001b[0m\u001b[1;33m.\u001b[0m\u001b[0msparse\u001b[0m \u001b[1;32mas\u001b[0m \u001b[0msp\u001b[0m\u001b[1;33m\u001b[0m\u001b[0m\n",
      "\u001b[1;31mImportError\u001b[0m: No module named sklearn.feature_extraction.text"
     ]
    }
   ],
   "source": [
    "import pandas as pd\n",
    "from IPython.display import display, Math\n",
    "\n",
    "from sklearn.feature_extraction.text import CountVectorizer, TfidfTransformer\n",
    "import numpy as np\n",
    "import scipy.sparse as sp\n",
    "\n",
    "from nltk.text import TextCollection"
   ]
  },
  {
   "cell_type": "code",
   "execution_count": 66,
   "metadata": {
    "collapsed": false
   },
   "outputs": [],
   "source": [
    "from pymystem3 import Mystem"
   ]
  },
  {
   "cell_type": "code",
   "execution_count": 5,
   "metadata": {
    "collapsed": true
   },
   "outputs": [],
   "source": [
    "text =\"Красивая мама красиво мыла раму\""
   ]
  },
  {
   "cell_type": "code",
   "execution_count": 67,
   "metadata": {
    "collapsed": false
   },
   "outputs": [],
   "source": [
    "m=Mystem()"
   ]
  },
  {
   "cell_type": "code",
   "execution_count": 68,
   "metadata": {
    "collapsed": false
   },
   "outputs": [
    {
     "ename": "NameError",
     "evalue": "name 'text' is not defined",
     "output_type": "error",
     "traceback": [
      "\u001b[1;31m---------------------------------------------------------------------------\u001b[0m",
      "\u001b[1;31mNameError\u001b[0m                                 Traceback (most recent call last)",
      "\u001b[1;32m<ipython-input-68-c948b48bec01>\u001b[0m in \u001b[0;36m<module>\u001b[1;34m()\u001b[0m\n\u001b[1;32m----> 1\u001b[1;33m \u001b[1;32mfor\u001b[0m \u001b[0mi\u001b[0m \u001b[1;32min\u001b[0m \u001b[0mm\u001b[0m\u001b[1;33m.\u001b[0m\u001b[0mlemmatize\u001b[0m\u001b[1;33m(\u001b[0m\u001b[0mtext\u001b[0m\u001b[1;33m)\u001b[0m\u001b[1;33m:\u001b[0m\u001b[1;33m\u001b[0m\u001b[0m\n\u001b[0m\u001b[0;32m      2\u001b[0m     \u001b[1;32mprint\u001b[0m \u001b[0mi\u001b[0m\u001b[1;33m\u001b[0m\u001b[0m\n",
      "\u001b[1;31mNameError\u001b[0m: name 'text' is not defined"
     ]
    }
   ],
   "source": [
    "for i in m.lemmatize(text):\n",
    "    print i"
   ]
  },
  {
   "cell_type": "code",
   "execution_count": 69,
   "metadata": {
    "collapsed": false
   },
   "outputs": [
    {
     "name": "stdout",
     "output_type": "stream",
     "text": [
      "мулявка\n"
     ]
    }
   ],
   "source": [
    "print m.lemmatize(\"Мулявки\")[0]"
   ]
  },
  {
   "cell_type": "code",
   "execution_count": 70,
   "metadata": {
    "collapsed": false
   },
   "outputs": [],
   "source": [
    "from bs4 import BeautifulSoup"
   ]
  },
  {
   "cell_type": "code",
   "execution_count": 78,
   "metadata": {
    "collapsed": false
   },
   "outputs": [],
   "source": [
    "import requests"
   ]
  },
  {
   "cell_type": "code",
   "execution_count": 92,
   "metadata": {
    "collapsed": false
   },
   "outputs": [
    {
     "data": {
      "text/plain": [
       "<Response [200]>"
      ]
     },
     "execution_count": 92,
     "metadata": {},
     "output_type": "execute_result"
    }
   ],
   "source": [
    "requests.get(\"http://ekaterinburg.m.irr.ru/electronics-technics/games/game-consoles/search/tab=users/\")"
   ]
  },
  {
   "cell_type": "code",
   "execution_count": 105,
   "metadata": {
    "collapsed": false
   },
   "outputs": [],
   "source": [
    "r = requests.get(\"http://www.ekaterinburg.m.irr.ru/electronics-technics/games/game-consoles/search/tab=users/\")"
   ]
  },
  {
   "cell_type": "code",
   "execution_count": 106,
   "metadata": {
    "collapsed": false
   },
   "outputs": [
    {
     "data": {
      "text/plain": [
       "u'http://ekaterinburg.irr.ru/electronics-technics/games/game-consoles/search/tab=users/'"
      ]
     },
     "execution_count": 106,
     "metadata": {},
     "output_type": "execute_result"
    }
   ],
   "source": [
    "r.url"
   ]
  },
  {
   "cell_type": "code",
   "execution_count": null,
   "metadata": {
    "collapsed": true
   },
   "outputs": [],
   "source": []
  },
  {
   "cell_type": "code",
   "execution_count": null,
   "metadata": {
    "collapsed": true
   },
   "outputs": [],
   "source": []
  },
  {
   "cell_type": "code",
   "execution_count": 87,
   "metadata": {
    "collapsed": false
   },
   "outputs": [],
   "source": [
    "response12 = requests.get(\"http://ekaterinburg.m.irr.ru/electronics-technics/games/game-consoles/search/tab=users/\")"
   ]
  },
  {
   "cell_type": "code",
   "execution_count": 88,
   "metadata": {
    "collapsed": false
   },
   "outputs": [
    {
     "data": {
      "text/plain": [
       "u'<?xml version=\"1.0\" encoding=\"UTF-8\"?>\\n<!DOCTYPE html PUBLIC \"-//WAPFORUM//DTD XHTML Mobile 1.2//EN\"\\n\\t\\t\"http://www.openmobilealliance.org/tech/DTD/xhtml-mobile12.dtd\">\\n\\n<html xmlns=\"http://www.w3.org/1999/xhtml\">\\n<head>\\n\\t<title>\\u0418\\u0433\\u0440\\u043e\\u0432\\u044b\\u0435 \\u043f\\u0440\\u0438\\u0441\\u0442\\u0430\\u0432\\u043a\\u0438 \\u0432 \\u041c\\u043e\\u0441\\u043a\\u0432\\u0435 \\u043f\\u0440\\u043e\\u0434\\u0430\\u0436\\u0430 | \\u043a\\u0443\\u043f\\u0438\\u0442\\u044c \\u0438\\u0433\\u0440\\u043e\\u0432\\u0443\\u044e \\u043f\\u0440\\u0438\\u0441\\u0442\\u0430\\u0432\\u043a\\u0443 \\u0431\\u0443 \\u0438\\u043b\\u0438 \\u043d\\u043e\\u0432\\u0443\\u044e</title>\\n\\t<meta name=\"MobileOptimized\" content=\"240\" />\\n\\t<meta name=\"viewport\" content=\"width=device-width\" />\\n\\t<script src=\"https://s3.amazonaws.com/codiqa-cdn/jquery-1.7.2.min.js\"></script>\\n\\n\\t<link rel=\"stylesheet\" href=\"/site/css_dis/mobile_global.css\"/>\\n\\t<script src=\"/site/js_dis/jquery.cookie.js\"></script>\\n\\t<script src=\"/site/js_dis/mobile_global.js\"></script>\\n\\t<script src=\"/site/js_dis/scripts/lib/bannerUtil/bannerUtil.js\"></script>\\n</head>\\n<body>\\n    <!-- Google Analytics -->\\n    <script type=\"text/javascript\">\\n        var _gaq = _gaq || [];\\n        _gaq.push(\\n                [\\'_setAccount\\', \\'UA-19320369-1\\'],\\n                [\\'_setDomainName\\', \\'irr.ru\\'],\\n                [\\'_trackPageview\\']\\n        );\\n        (function() {\\n            var ga = document.createElement(\\'script\\'); ga.type = \\'text/javascript\\'; ga.async = true;\\n            ga.src = (\\'https:\\' == document.location.protocol ? \\'https://\\' : \\'http://\\') + \\'stats.g.doubleclick.net/dc.js\\';\\n            var s = document.getElementsByTagName(\\'script\\')[0]; s.parentNode.insertBefore(ga, s);\\n        })();\\n    </script>\\n    <!-- Google Analytics -->\\n    <!-- Google Analytics -->\\n    <script>\\n    \\t/*\\n    \\t(function(i,s,o,g,r,a,m){i[\\'GoogleAnalyticsObject\\']=r;i[r]=i[r]||function(){\\n    \\t\\t(i[r].q=i[r].q||[]).push(arguments)},i[r].l=1*new Date();a=s.createElement(o),\\n    \\t\\t\\tm=s.getElementsByTagName(o)[0];a.async=1;a.src=g;m.parentNode.insertBefore(a,m)\\n    \\t})(window,document,\\'script\\',\\'//www.google-analytics.com/analytics.js\\',\\'ga\\');\\n    \\tga(\\'create\\', \\'UA-19320369-2\\', \\'auto\\');\\n    \\tga(\\'require\\',\\'displayfeatures\\');\\n    \\n    \\tvar dimensionValue = \\'Guest\\';\\n    \\tga(\\'set\\',\\'dimension1\\', dimensionValue);\\n    \\tga(\\'send\\', \\'pageview\\');\\n    \\t*/\\n    </script>\\n    <!-- End Google Analytics -->\\n    \\n    <!--LiveInternet counter--><script type=\"text/javascript\"><!--\\r\\n    new Image().src = \"//counter.yadro.ru/hit;irr?r\"+\\r\\n            escape(document.referrer)+((typeof(screen)==\"undefined\")?\"\":\\r\\n            \";s\"+screen.width+\"*\"+screen.height+\"*\"+(screen.colorDepth?\\r\\n            screen.colorDepth:screen.pixelDepth))+\";u\"+escape(document.URL)+\\r\\n            \";\"+Math.random();//--></script><!--/LiveInternet-->\\n    \\n    <!-- JOB - RU - RTA - RUB - main rta script -->\\n    <script src=\"http://montblanc.rambler.ru/static/js/montblanc.js\"></script>\\n    <script type=\\'text/javascript\\'>\\n        var crtg_nid = \\'4018\\';\\n        var crtg_cookiename = \\'crtg_rta\\';\\n        var crtg_varname = \\'crtg_content\\';\\n        function crtg_getCookie(c_name){ var i,x,y,ARRCookies=document.cookie.split(\";\");for(i=0;i<ARRCookies.length;i++){x=ARRCookies[i].substr(0,ARRCookies[i].indexOf(\"=\"));y=ARRCookies[i].substr(ARRCookies[i].indexOf(\"=\")+1);x=x.replace(/^\\\\s+|\\\\s+$/g,\"\");if(x==c_name){return unescape(y);} }return\\'\\';}\\n        var crtg_content = crtg_getCookie(crtg_cookiename);\\n        var crtg_rnd=Math.floor(Math.random()*99999999999);\\n        (function(){\\n            var crtg_url=location.protocol+\\'//rtax.criteo.com/delivery/rta/rta.js?netId=\\'+escape(crtg_nid);\\n            crtg_url +=\\'&cookieName=\\'+escape(crtg_cookiename);\\n            crtg_url +=\\'&rnd=\\'+crtg_rnd;\\n            crtg_url +=\\'&varName=\\' + escape(crtg_varname);\\n            var crtg_script=document.createElement(\\'script\\');crtg_script.type=\\'text/javascript\\';crtg_script.src=crtg_url;crtg_script.async=true;\\n            if(document.getElementsByTagName(\"head\").length>0)document.getElementsByTagName(\"head\")[0].appendChild(crtg_script);\\n            else if(document.getElementsByTagName(\"body\").length>0)document.getElementsByTagName(\"body\")[0].appendChild(crtg_script);\\n        })();\\n    </script>\\n    \\n    <script type=\\'text/javascript\\'>\\n        var googletag = googletag || {};\\n        googletag.cmd = googletag.cmd || [];\\n        (function() {\\n            var gads = document.createElement(\\'script\\');\\n            gads.async = true;\\n            gads.type = \\'text/javascript\\';\\n            var useSSL = \\'https:\\' == document.location.protocol;\\n            gads.src = (useSSL ? \\'https:\\' : \\'http:\\') +\\n            \\'//www.googletagservices.com/tag/js/gpt.js\\';\\n            var node = document.getElementsByTagName(\\'script\\')[0];\\n            node.parentNode.insertBefore(gads, node);\\n        })();\\n    </script>\\n    \\n    <script type=\\'text/javascript\\'>\\n        var _adsSlot=[];\\n        var advertData = [];\\n    \\n        googletag.cmd.push(function() {\\n            var Delayed = function(executor) {\\n                this._slots = [];\\n                this._runInstantly = false;\\n                this._executor = executor;\\n                this.setOnload();\\n            };\\n    \\n            Delayed.prototype.loadBanner = function(id) {\\n                return this._executor(id);\\n            }\\n    \\n            Delayed.prototype._onloadHandler = function(){\\n                var slots = this._slots;\\n                for (var i=0, l=slots.length; i<l; i++) {\\n                    this.loadBanner(slots[i]);\\n                }\\n                this._runInstantly = true;\\n            }\\n    \\n            Delayed.prototype.setOnload = function() {\\n                var onload = this._onloadHandler.bind(this);\\n                if ( document.addEventListener ) {\\n                    window.addEventListener( \"load\", onload, false );\\n                } else {\\n                    window.attachEvent( \"onload\", onload );\\n                }\\n            }\\n    \\n            Delayed.prototype.push = function(id){\\n                if (this._runInstantly === true) {\\n                    return this.loadBanner(id);\\n                }\\n                this._slots.push(id);\\n            }\\n    \\n            var decorator = function(func) {\\n                var delayed = new Delayed(func);\\n                return function (id) {\\n                    if (id.substr(0, 3) === \\'Bn_\\') {\\n                        return delayed.push(id)\\n                    }\\n                    return func.apply(this, arguments);\\n                }\\n            };\\n    \\n            googletag.display = decorator(googletag.display);\\n        });\\n    \\n        googletag.cmd.push(function() {\\n            \\n            _adsSlot[\"LB.Top.mobile.1\"]= googletag.defineSlot(\\'/9728/IRR.RU/m.irr.ru/SUB_m.irr.ru/LB.Top.mobile.1\\', [320, 50], \\'LB.Top.mobile.1\\').addService(googletag.pubads());\\n            \\n    \\n            \\n            googletag.pubads().setTargeting(\\'adv_owner\\', \\'debdicdjifaabueejiaajjiecfieche\\');\\n            googletag.pubads().setTargeting(\\'adv_smart\\', \\'debdicdjifaabueejiaajjiecfieche\\');\\n    \\n    \\t\\n            googletag.pubads().setTargeting(\\'gCity\\', \\'irr.ru\\');\\n            \\n            \\n            googletag.pubads().setTargeting(\\'electronics\\', \\'electronics-technics\\');\\n            \\n            if (typeof _montblanc != \\'undefined\\') {\\n                /*segments - sex, age, interests top100, custom interests*/\\n                var segments = [\\'4i\\', \\'c6\\', \\'y1\\', \\'bj\\'];\\n                var rmbSegments = \\'\\';\\n                for (var i=0, l=segments.length; i < l; i++) {\\n                    var res = _montblanc.get(segments[i], \\'\\');\\n                    rmbSegments += (res.length > 0) ? \\',\\' + res.replace(/:/g, \\',\\') : \\'\\';\\n                }\\n                googletag.pubads().setTargeting(\\'Rmb_segments\\', rmbSegments.substr(1));\\n            }\\n            googletag.pubads().setTargeting(\\'IP\\', \\'95.221.197.181\\');\\n            \\n            googletag.pubads().setTargeting(\\'domain_zone\\', \\'ru\\');\\n            googletag.pubads().collapseEmptyDivs();\\n    \\n            var crtg_split = crtg_content.split(\\';\\');\\n            for (var i = 1; i < crtg_split.length; i++) {\\n                googletag.pubads().setTargeting(\"\" + (crtg_split[i - 1].split(\\'=\\'))[0] + \"\", \"\" + (crtg_split[i - 1].split(\\'=\\'))[1] + \"\");\\n            }\\n    \\n            googletag.enableServices();\\n        });\\n    </script>\\n    \\n    \\n    \\n    <!-- Yandex.Metrika counter -->\\n    <script type=\"text/javascript\">\\n       (function (d, w, c) {\\n          (w[c] = w[c] || []).push(function() {\\n             try {\\n                w.yaCounter467657 = new Ya.Metrika({id:467657,\\n    \\t\\t\\t\\t\\twebvisor:true,\\n    \\t\\t\\t\\t\\tclickmap:true,\\n    \\t\\t\\t\\t\\ttrackLinks:true,\\n    \\t\\t\\t\\t\\taccurateTrackBounce:true});\\n             } catch(e) { }\\n          });\\n    \\n          var n = d.getElementsByTagName(\"script\")[0],\\n             s = d.createElement(\"script\"),\\n             f = function () { n.parentNode.insertBefore(s, n); };\\n          s.type = \"text/javascript\";\\n          s.async = true;\\n          s.src = (d.location.protocol == \"https:\" ? \"https:\" : \"http:\") + \"//mc.yandex.ru/metrika/watch.js\";\\n    \\n          if (w.opera == \"[object Opera]\") {\\n             d.addEventListener(\"DOMContentLoaded\", f, false);\\n          } else { f(); }\\n       })(document, window, \"yandex_metrika_callbacks\");\\n    </script>\\n    <noscript><div><img src=\"//mc.yandex.ru/watch/4676570\" style=\"position:absolute; left:-9999px;\" alt=\"\" /></div></noscript>\\n    <!-- /Yandex.Metrika counter -->\\n    \\n\\n<input type=\"hidden\" id=\"site_cookie_path\" value=\".m.irr.ru\" />\\n<input type=\"hidden\" id=\\'site_version_cookie_domain\\' value=\".irr.ru\">\\n<input type=\"hidden\" id=\"site_server_name\" value=\"http://m.irr.ru\" />\\n<input type=\"hidden\" id=\"address_string\" value=\"/\" />\\n\\n<div class=\"container\">\\n\\n\\t<div class=\"header\">\\n\\t\\t<h1 class=\"logo\">\\n\\t\\t\\t<a >\\n\\t\\t\\t\\t<img src=\"/site/pic_dis/logo_mobile.png\" height=\"24px\" width=\"106px\" alt=\"logo irr.ru\" />\\n\\t\\t\\t</a>\\n\\t\\t</h1>\\n\\t\\t<a class=\"choosen-region\" href=\"/wap_regions/\">\\u041c\\u043e\\u0441\\u043a\\u0432\\u0430 \\u0438 \\u043e\\u0431\\u043b\\u0430\\u0441\\u0442\\u044c</a>\\n\\n\\t\\t\\n\\t\\t<div class=\"breadcrumbs\">\\n\\t\\t\\t\\n\\t\\t\\t\\t<a href=\"/\">\\u0418\\u0437 \\u0440\\u0443\\u043a \\u0432 \\u0440\\u0443\\u043a\\u0438 \\u041c\\u043e\\u0441\\u043a\\u0432\\u0430</a>\\n\\t\\t\\t\\n\\t\\t\\t\\t<i>&#62;</i><a href=\"/electronics-technics/\">\\u042d\\u043b\\u0435\\u043a\\u0442\\u0440\\u043e\\u043d\\u0438\\u043a\\u0430 \\u0438 \\u0442\\u0435\\u0445\\u043d\\u0438\\u043a\\u0430</a>\\n\\t\\t\\t\\n\\t\\t\\t\\t<i>&#62;</i><a href=\"/electronics-technics/games/\">\\u0418\\u0433\\u0440\\u044b, \\u0438\\u0433\\u0440\\u043e\\u0432\\u044b\\u0435 \\u043f\\u0440\\u0438\\u0441\\u0442\\u0430\\u0432\\u043a\\u0438</a>\\n\\t\\t\\t\\n\\t\\t\\t\\t<i>&#62;</i><a href=\"/electronics-technics/games/game-consoles/\">\\u0418\\u0433\\u0440\\u043e\\u0432\\u044b\\u0435 \\u043f\\u0440\\u0438\\u0441\\u0442\\u0430\\u0432\\u043a\\u0438</a>\\n\\t\\t\\t\\n\\t\\t</div>\\n\\t\\t\\n\\t</div>\\n\\n\\t\\n\\t<div class=\"search\">\\n\\t\\t<form action=\"\" method=\"post\" onSubmit=\"search_f(); return false;\">\\n\\t\\t\\t<table width=\"100%\">\\n\\t\\t\\t\\t<tr>\\n\\t\\t\\t\\t\\t<td class=\"search-field\">\\n\\t\\t\\t\\t\\t\\t<input type=\"text\" placeholder=\"\" id=\"id_keywords\" name=\"keywords\" value=\"\" />\\n\\t\\t\\t\\t\\t</td>\\n\\t\\t\\t\\t\\t<td class=\"search-submit\">\\n\\t\\t\\t\\t\\t\\t<input type=\"submit\" value=\"\\u041d\\u0430\\u0439\\u0442\\u0438\" name=\"search\" />\\n\\t\\t\\t\\t\\t</td>\\n\\t\\t\\t\\t</tr>\\n\\t\\t\\t\\t\\n\\t\\t\\t\\t<tr>\\n\\t\\t\\t\\t\\t<td>\\n\\t\\t\\t\\t\\t\\t<label class=\"search-category\">\\n\\t\\t\\t\\t\\t\\t\\t<input type=\"checkbox\" id=\"look_there\"/>\\n\\t\\t\\t\\t\\t\\t\\t<span>\\u0418\\u0441\\u043a\\u0430\\u0442\\u044c \\u0432 \\u0442\\u0435\\u043a\\u0443\\u0449\\u0435\\u0439 \\u043a\\u0430\\u0442\\u0435\\u0433\\u043e\\u0440\\u0438\\u0438</span>\\n\\t\\t\\t\\t\\t\\t</label>\\n\\t\\t\\t\\t\\t\\t<span id=\"advert-rubric-uri\" style=\"display: none; visibility: hidden;\">/electronics-technics/games/game-consoles/</span>\\n\\t\\t\\t\\t\\t</td>\\n\\t\\t\\t\\t</tr>\\n\\t\\t\\t\\t\\n\\t\\t\\t</table>\\n\\t\\t</form>\\n\\t\\t<div>\\n\\t\\t\\t\\n\\t\\t\\t<!-- LB.Top.mobile.1 -->\\n\\t\\t\\t<div id=\"LB.Top.mobile.1\" class=\"LB_TOP_MOBILE_1\" group=\"\">\\n\\t\\t\\t\\t<script type=\\'text/javascript\\'>\\n\\t\\t\\t\\t\\tgoogletag.cmd.push(function() { googletag.display(\\'LB.Top.mobile.1\\'); });\\n\\t\\t\\t\\t</script>\\n\\t\\t\\t</div>\\n\\t\\t\\t\\n\\t\\t</div>\\n\\t</div>\\n\\t\\n\\n\\n<div class=\"item-block sort-filter\">\\n    <div class=\"row cf\">\\n        <div class=\"form-key\">\\u041f\\u0440\\u0438\\u043d\\u0430\\u0434\\u043b\\u0435\\u0436\\u043d\\u043e\\u0441\\u0442\\u044c</div>\\n        <div class=\"form-val\">\\n            <select name=\"\" id=\"owners_options\">\\n            \\n                <option  value=\"all\">\\u0412\\u0441\\u0435</option>\\n            \\n                <option  value=\"companies\">\\u041c\\u0430\\u0433\\u0430\\u0437\\u0438\\u043d\\u044b</option>\\n            \\n                <option selected=\"selected\" value=\"users\">\\u0427\\u0430\\u0441\\u0442\\u043d\\u044b\\u0435</option>\\n            \\n            </select>\\n        </div>\\n    </div>\\n    <div class=\"row cf\">\\n        <div class=\"form-key\">\\u0421\\u043e\\u0440\\u0442\\u0438\\u0440\\u043e\\u0432\\u0430\\u0442\\u044c \\u043f\\u043e</div>\\n        <div class=\"form-val\">\\n            <select name=\"\" id=\"sort_options\">\\n                \\n                <option  value=\"date_sort:asc\">\\u0434\\u0430\\u0442\\u0435 (\\u0441\\u043d\\u0430\\u0447\\u0430\\u043b\\u0430 \\u0441\\u0442\\u0430\\u0440\\u044b\\u0435)</option>\\n                \\n                <option  value=\"date_sort:desc\">\\u0434\\u0430\\u0442\\u0435 (\\u0441\\u043d\\u0430\\u0447\\u0430\\u043b\\u0430 \\u043d\\u043e\\u0432\\u044b\\u0435)</option>\\n                \\n                <option selected=\"selected\" value=\"quality_index:desc\">\\u0440\\u0435\\u043b\\u0435\\u0432\\u0430\\u043d\\u0442\\u043d\\u043e\\u0441\\u0442\\u0438</option>\\n                \\n                <option  value=\"price:asc\">\\u0446\\u0435\\u043d\\u0435 (\\u043e\\u0442 \\u043c\\u0435\\u043d\\u044c\\u0448\\u0435\\u0439 \\u043a \\u0431\\u043e\\u043b\\u044c\\u0448\\u0435\\u0439)</option>\\n                \\n                <option  value=\"price:desc\">\\u0446\\u0435\\u043d\\u0435 (\\u043e\\u0442 \\u0431\\u043e\\u043b\\u044c\\u0448\\u0435\\u0439 \\u043a \\u043c\\u0435\\u043d\\u044c\\u0448\\u0435\\u0439)</option>\\n                \\n            </select>\\n        </div>\\n    </div>\\n</div>\\n\\n<div id=\"ads-listing\" class=\"ads-listing\">\\n\\n\\n\\n\\n    <div class=\"item-block\">\\n        <a href=\"http://m.irr.ru/electronics-technics/games/game-consoles/Prodam-igrovaya-pristavka-Microsoft-advert527573763.html\" class=\"ads-listing-item\">\\n            <p class=\"ads-text\">\\u041f\\u0440\\u043e\\u0434\\u0430\\u043c: \\u0438\\u0433\\u0440\\u043e\\u0432\\u0430\\u044f \\u043f\\u0440\\u0438\\u0441\\u0442\\u0430\\u0432\\u043a\\u0430 Microsoft</p>\\n            <p class=\"ads-price\">10&nbsp;000 \\u0440\\u0443\\u0431.</p>\\n        </a>\\n        \\n        <span class=\"ads-region\">\\u041c\\u043e\\u0441\\u043a\\u0432\\u0430</span>\\n    </div>\\n\\n    <div class=\"item-block\">\\n        <a href=\"http://m.irr.ru/electronics-technics/games/game-consoles/Prodam-igrovaya-pristavka-Microsoft-advert527573464.html\" class=\"ads-listing-item\">\\n            <p class=\"ads-text\">\\u041f\\u0440\\u043e\\u0434\\u0430\\u043c: \\u0438\\u0433\\u0440\\u043e\\u0432\\u0430\\u044f \\u043f\\u0440\\u0438\\u0441\\u0442\\u0430\\u0432\\u043a\\u0430 Microsoft</p>\\n            <p class=\"ads-price\">14&nbsp;000 \\u0440\\u0443\\u0431.</p>\\n        </a>\\n        \\n        <span class=\"ads-region\">\\u041c\\u043e\\u0441\\u043a\\u0432\\u0430</span>\\n    </div>\\n\\n    <div class=\"item-block\">\\n        <a href=\"http://m.irr.ru/electronics-technics/games/game-consoles/Prodam-igrovaya-pristavka-Microsoft-advert527573497.html\" class=\"ads-listing-item\">\\n            <p class=\"ads-text\">\\u041f\\u0440\\u043e\\u0434\\u0430\\u043c: \\u0438\\u0433\\u0440\\u043e\\u0432\\u0430\\u044f \\u043f\\u0440\\u0438\\u0441\\u0442\\u0430\\u0432\\u043a\\u0430 Microsoft</p>\\n            <p class=\"ads-price\">4&nbsp;500 \\u0440\\u0443\\u0431.</p>\\n        </a>\\n        \\n        <span class=\"ads-region\">\\u041c\\u043e\\u0441\\u043a\\u0432\\u0430</span>\\n    </div>\\n\\n    <div class=\"item-block\">\\n        <a href=\"http://m.irr.ru/electronics-technics/games/game-consoles/Prodam-igrovaya-pristavka-Microsoft-advert527571590.html\" class=\"ads-listing-item\">\\n            <p class=\"ads-text\">\\u041f\\u0440\\u043e\\u0434\\u0430\\u043c: \\u0438\\u0433\\u0440\\u043e\\u0432\\u0430\\u044f \\u043f\\u0440\\u0438\\u0441\\u0442\\u0430\\u0432\\u043a\\u0430 Microsoft</p>\\n            <p class=\"ads-price\">16&nbsp;000 \\u0440\\u0443\\u0431.</p>\\n        </a>\\n        \\n        <span class=\"ads-region\">\\u041c\\u043e\\u0441\\u043a\\u0432\\u0430</span>\\n    </div>\\n\\n    <div class=\"item-block\">\\n        <a href=\"http://m.irr.ru/electronics-technics/games/game-consoles/Prodam-igrovaya-pristavka-SEGA-advert527555125.html\" class=\"ads-listing-item\">\\n            <p class=\"ads-text\">\\u041f\\u0440\\u043e\\u0434\\u0430\\u043c: \\u0438\\u0433\\u0440\\u043e\\u0432\\u0430\\u044f \\u043f\\u0440\\u0438\\u0441\\u0442\\u0430\\u0432\\u043a\\u0430 SEGA</p>\\n            <p class=\"ads-price\">1&nbsp;000 \\u0440\\u0443\\u0431.</p>\\n        </a>\\n        \\n        <span class=\"ads-region\">\\u041c\\u043e\\u0441\\u043a\\u0432\\u0430</span>\\n    </div>\\n\\n    <div class=\"item-block\">\\n        <a href=\"http://m.irr.ru/electronics-technics/games/game-consoles/Prodam-igrovaya-pristavka-Microsoft-advert527547410.html\" class=\"ads-listing-item\">\\n            <p class=\"ads-text\">\\u041f\\u0440\\u043e\\u0434\\u0430\\u043c: \\u0438\\u0433\\u0440\\u043e\\u0432\\u0430\\u044f \\u043f\\u0440\\u0438\\u0441\\u0442\\u0430\\u0432\\u043a\\u0430 Microsoft</p>\\n            <p class=\"ads-price\">40&nbsp;000 \\u0440\\u0443\\u0431.</p>\\n        </a>\\n        \\n        <span class=\"ads-region\">\\u041c\\u043e\\u0441\\u043a\\u0432\\u0430</span>\\n    </div>\\n\\n    <div class=\"item-block\">\\n        <a href=\"http://m.irr.ru/electronics-technics/games/game-consoles/Prodam-igrovaya-pristavka-Microsoft-advert515662387.html\" class=\"ads-listing-item\">\\n            <p class=\"ads-text\">\\u041f\\u0440\\u043e\\u0434\\u0430\\u043c: \\u0438\\u0433\\u0440\\u043e\\u0432\\u0430\\u044f \\u043f\\u0440\\u0438\\u0441\\u0442\\u0430\\u0432\\u043a\\u0430 Microsoft</p>\\n            <p class=\"ads-price\">9&nbsp;500 \\u0440\\u0443\\u0431.</p>\\n        </a>\\n        \\n        <span class=\"ads-region\">\\u041c\\u043e\\u0441\\u043a\\u0432\\u0430</span>\\n    </div>\\n\\n    <div class=\"item-block\">\\n        <a href=\"http://m.irr.ru/electronics-technics/games/game-consoles/Prodam-igrovaya-pristavka-Microsoft-advert527527612.html\" class=\"ads-listing-item\">\\n            <p class=\"ads-text\">\\u041f\\u0440\\u043e\\u0434\\u0430\\u043c: \\u0438\\u0433\\u0440\\u043e\\u0432\\u0430\\u044f \\u043f\\u0440\\u0438\\u0441\\u0442\\u0430\\u0432\\u043a\\u0430 Microsoft</p>\\n            <p class=\"ads-price\">13&nbsp;000 \\u0440\\u0443\\u0431.</p>\\n        </a>\\n        \\n        <span class=\"ads-region\">\\u041c\\u043e\\u0441\\u043a\\u0432\\u0430</span>\\n    </div>\\n\\n    <div class=\"item-block\">\\n        <a href=\"http://m.irr.ru/electronics-technics/games/game-consoles/Prodam-igrovaya-pristavka-Microsoft-advert527366880.html\" class=\"ads-listing-item\">\\n            <p class=\"ads-text\">\\u041f\\u0440\\u043e\\u0434\\u0430\\u043c: \\u0438\\u0433\\u0440\\u043e\\u0432\\u0430\\u044f \\u043f\\u0440\\u0438\\u0441\\u0442\\u0430\\u0432\\u043a\\u0430 Microsoft</p>\\n            <p class=\"ads-price\">9&nbsp;500 \\u0440\\u0443\\u0431.</p>\\n        </a>\\n        \\n        <span class=\"ads-region\">\\u041c\\u043e\\u0441\\u043a\\u0432\\u0430</span>\\n    </div>\\n\\n    <div class=\"item-block\">\\n        <a href=\"http://m.irr.ru/electronics-technics/games/game-consoles/Prodam-igrovaya-pristavka-Microsoft-advert527351154.html\" class=\"ads-listing-item\">\\n            <p class=\"ads-text\">\\u041f\\u0440\\u043e\\u0434\\u0430\\u043c: \\u0438\\u0433\\u0440\\u043e\\u0432\\u0430\\u044f \\u043f\\u0440\\u0438\\u0441\\u0442\\u0430\\u0432\\u043a\\u0430 Microsoft</p>\\n            <p class=\"ads-price\">11&nbsp;000 \\u0440\\u0443\\u0431.</p>\\n        </a>\\n        \\n        <span class=\"ads-region\">\\u041c\\u043e\\u0441\\u043a\\u0432\\u0430</span>\\n    </div>\\n\\n\\n<!-- \\u042f\\u043d\\u0434\\u0435\\u043a\\u0441.\\u0414\\u0438\\u0440\\u0435\\u043a\\u0442 -->\\n<script type=\"text/javascript\">\\n\\tyandex_partner_id = 134659;\\n\\tyandex_site_bg_color = \\'FFFFFF\\';\\n\\tyandex_stat_id = 1;\\n\\tyandex_ad_format = \\'direct\\';\\n\\tyandex_font_size = 1;\\n\\tyandex_direct_type = \\'vertical\\';\\n\\tyandex_direct_limit = 1;\\n\\tyandex_direct_title_font_size = 1;\\n\\tyandex_direct_links_underline = false;\\n\\tyandex_direct_header_bg_color = \\'FEEAC7\\';\\n\\tyandex_direct_title_color = \\'000000\\';\\n\\tyandex_direct_url_color = \\'000000\\';\\n\\tyandex_direct_text_color = \\'000000\\';\\n\\tyandex_direct_hover_color = \\'000000\\';\\n\\tyandex_direct_sitelinks_color = \\'000000\\';\\n\\tyandex_direct_favicon = false;\\n\\tyandex_no_sitelinks = false;\\n\\tdocument.write(\\'<scr\\' + \\'ipt type=\"text/javascript\" src=\"//an.yandex.ru/system/context.js\"></scr\\' + \\'ipt>\\');\\n</script>\\n\\n<div class=\"item-block\">\\n    <a class=\"onTop\" href=\"#\" onclick=\"goTo(\\'.item-block\\');return false;\">\\u041d\\u0430\\u0432\\u0435\\u0440\\u0445</a>\\n</div>\\n\\n<div class=\"item-block sort-bar cf\">\\n    <!--<div class=\"floatLeft page-list\">\\n        <a href=\"#\">1</a>\\n        <a class=\"current\">2</a>\\n        <a href=\"#\">3</a>\\n        <a href=\"#\">4</a>\\n        <a href=\"#\">5</a>\\n        <a href=\"#\">...</a>\\n        <a href=\"#\">50</a>\\n    </div>-->\\n\\n    <div class=\"floatLeft page-list\">\\n    \\n    \\n    \\n    <a class=\"current\">1</a>\\n    \\n    <a href=\"/electronics-technics/games/game-consoles/search/tab=users/page2/\">2</a>\\n    \\n    \\n    <a href=\"/electronics-technics/games/game-consoles/search/tab=users/page3/\">3</a>\\n    \\n    \\n    <a href=\"/electronics-technics/games/game-consoles/search/tab=users/page4/\">4</a>\\n    \\n    \\n    <a href=\"/electronics-technics/games/game-consoles/search/tab=users/page5/\">5</a>\\n    \\n    \\n    <span>...</span><a href=\"/electronics-technics/games/game-consoles/search/tab=users/page21/\">21</a>\\n    </div>\\n\\n    \\n    <div class=\"floatRight\">\\n        <span>\\u041e\\u0431\\u044a\\u044f\\u0432\\u043b\\u0435\\u043d\\u0438\\u0439 \\u043d\\u0430 \\u0441\\u0442\\u0440\\u0430\\u043d\\u0438\\u0446\\u0435</span>\\n        <select name=\"\" id=\"per_page\">\\n            <option selected=\"selected\" value=\"10\" data-url=>10</option><option  value=\"20\" data-url=/electronics-technics/games/game-consoles/search/tab=users/page_len20/>20</option><option  value=\"40\" data-url=/electronics-technics/games/game-consoles/search/tab=users/page_len40/>40</option>\\n        </select>\\n    </div>\\n    \\n</div>\\n</div>\\n\\n        <div class=\"footer\">\\n            <ul class=\"footer__menu list\">\\n                <li><a onclick=\"handleSiteVersionChoice(this, \\'full\\'); return false;\" href=\"http://irr.ru/electronics-technics/games/game-consoles/search/tab=users/?auto_redirect=0\">\\u041f\\u043e\\u043b\\u043d\\u0430\\u044f \\u0432\\u0435\\u0440\\u0441\\u0438\\u044f \\u0441\\u0430\\u0439\\u0442\\u0430</a></li>\\n                <li><a href=\"http://m.irr.ru/terms/\">\\u0423\\u0441\\u043b\\u043e\\u0432\\u0438\\u044f \\u0438 \\u043f\\u0440\\u0430\\u0432\\u0438\\u043b\\u0430</a></li>\\n                <li><a href=\"http://m.irr.ru/help/aboutsite/\">\\u041f\\u043e\\u043c\\u043e\\u0449\\u044c</a></li>\\n            </ul>\\n            <p class=\"copyright\">&#169; 2005-2013, <a href=\"http://pronto-media.ru/\">OOO &#171;\\u041f\\u0440\\u043e\\u043d\\u0442\\u043e-\\u041c\\u043e\\u0441\\u043a\\u0432\\u0430&#187;</a>.</p>\\n        </div>\\n    </div>\\n    <!--LiveInternet logo-->\\n    <a href=\"http://www.liveinternet.ru/click;irr\" target=\"_blank\">\\n        <FONT size=\"1\">[AD]</FONT>\\n    </a>\\n    <!--/LiveInternet-->\\n</body>\\n</html><!--\\n\\tgeneratedBy: web19.irr.ru\\n-->'"
      ]
     },
     "execution_count": 88,
     "metadata": {},
     "output_type": "execute_result"
    }
   ],
   "source": [
    "response12.text"
   ]
  },
  {
   "cell_type": "code",
   "execution_count": 89,
   "metadata": {
    "collapsed": false
   },
   "outputs": [],
   "source": [
    "soup123 = BeautifulSoup(response12.text, \"html5lib\")"
   ]
  },
  {
   "cell_type": "code",
   "execution_count": 90,
   "metadata": {
    "collapsed": false
   },
   "outputs": [
    {
     "name": "stdout",
     "output_type": "stream",
     "text": [
      "http://ekaterinburg.m.irr.ru/electronics-technics/games/game-consoles/search/tab=users\n"
     ]
    }
   ],
   "source": [
    "city = \"http://ekaterinburg.m.irr.ru\"\n",
    "type_of_goods = \"electronics-technics/games/game-consoles\"\n",
    "type_of_seller = \"search/tab=users\"\n",
    "pages_deep = 2\n",
    "url_for_request = city +'/'+type_of_goods+'/'+type_of_seller\n",
    "print url_for_request"
   ]
  },
  {
   "cell_type": "code",
   "execution_count": null,
   "metadata": {
    "collapsed": true
   },
   "outputs": [],
   "source": []
  },
  {
   "cell_type": "code",
   "execution_count": 91,
   "metadata": {
    "collapsed": false
   },
   "outputs": [
    {
     "name": "stdout",
     "output_type": "stream",
     "text": [
      "\n",
      "\tИгровые приставки в Москве продажа | купить игровую приставку бу или новую\n",
      "\t\n",
      "\t\n",
      "\t\n",
      "\n",
      "\t\n",
      "\t\n",
      "\t\n",
      "\t\n",
      "\n",
      "\n",
      "    \n",
      "    \n",
      "        var _gaq = _gaq || [];\n",
      "        _gaq.push(\n",
      "                ['_setAccount', 'UA-19320369-1'],\n",
      "                ['_setDomainName', 'irr.ru'],\n",
      "                ['_trackPageview']\n",
      "        );\n",
      "        (function() {\n",
      "            var ga = document.createElement('script'); ga.type = 'text/javascript'; ga.async = true;\n",
      "            ga.src = ('https:' == document.location.protocol ? 'https://' : 'http://') + 'stats.g.doubleclick.net/dc.js';\n",
      "            var s = document.getElementsByTagName('script')[0]; s.parentNode.insertBefore(ga, s);\n",
      "        })();\n",
      "    \n",
      "    \n",
      "    \n",
      "    \n",
      "    \t/*\n",
      "    \t(function(i,s,o,g,r,a,m){i['GoogleAnalyticsObject']=r;i[r]=i[r]||function(){\n",
      "    \t\t(i[r].q=i[r].q||[]).push(arguments)},i[r].l=1*new Date();a=s.createElement(o),\n",
      "    \t\t\tm=s.getElementsByTagName(o)[0];a.async=1;a.src=g;m.parentNode.insertBefore(a,m)\n",
      "    \t})(window,document,'script','//www.google-analytics.com/analytics.js','ga');\n",
      "    \tga('create', 'UA-19320369-2', 'auto');\n",
      "    \tga('require','displayfeatures');\n",
      "    \n",
      "    \tvar dimensionValue = 'Guest';\n",
      "    \tga('set','dimension1', dimensionValue);\n",
      "    \tga('send', 'pageview');\n",
      "    \t*/\n",
      "    \n",
      "    \n",
      "    \n",
      "    <!--\n",
      "    new Image().src = \"//counter.yadro.ru/hit;irr?r\"+\n",
      "            escape(document.referrer)+((typeof(screen)==\"undefined\")?\"\":\n",
      "            \";s\"+screen.width+\"*\"+screen.height+\"*\"+(screen.colorDepth?\n",
      "            screen.colorDepth:screen.pixelDepth))+\";u\"+escape(document.URL)+\n",
      "            \";\"+Math.random();//-->\n",
      "    \n",
      "    \n",
      "    \n",
      "    \n",
      "        var crtg_nid = '4018';\n",
      "        var crtg_cookiename = 'crtg_rta';\n",
      "        var crtg_varname = 'crtg_content';\n",
      "        function crtg_getCookie(c_name){ var i,x,y,ARRCookies=document.cookie.split(\";\");for(i=0;i<ARRCookies.length;i++){x=ARRCookies[i].substr(0,ARRCookies[i].indexOf(\"=\"));y=ARRCookies[i].substr(ARRCookies[i].indexOf(\"=\")+1);x=x.replace(/^\\s+|\\s+$/g,\"\");if(x==c_name){return unescape(y);} }return'';}\n",
      "        var crtg_content = crtg_getCookie(crtg_cookiename);\n",
      "        var crtg_rnd=Math.floor(Math.random()*99999999999);\n",
      "        (function(){\n",
      "            var crtg_url=location.protocol+'//rtax.criteo.com/delivery/rta/rta.js?netId='+escape(crtg_nid);\n",
      "            crtg_url +='&cookieName='+escape(crtg_cookiename);\n",
      "            crtg_url +='&rnd='+crtg_rnd;\n",
      "            crtg_url +='&varName=' + escape(crtg_varname);\n",
      "            var crtg_script=document.createElement('script');crtg_script.type='text/javascript';crtg_script.src=crtg_url;crtg_script.async=true;\n",
      "            if(document.getElementsByTagName(\"head\").length>0)document.getElementsByTagName(\"head\")[0].appendChild(crtg_script);\n",
      "            else if(document.getElementsByTagName(\"body\").length>0)document.getElementsByTagName(\"body\")[0].appendChild(crtg_script);\n",
      "        })();\n",
      "    \n",
      "    \n",
      "    \n",
      "        var googletag = googletag || {};\n",
      "        googletag.cmd = googletag.cmd || [];\n",
      "        (function() {\n",
      "            var gads = document.createElement('script');\n",
      "            gads.async = true;\n",
      "            gads.type = 'text/javascript';\n",
      "            var useSSL = 'https:' == document.location.protocol;\n",
      "            gads.src = (useSSL ? 'https:' : 'http:') +\n",
      "            '//www.googletagservices.com/tag/js/gpt.js';\n",
      "            var node = document.getElementsByTagName('script')[0];\n",
      "            node.parentNode.insertBefore(gads, node);\n",
      "        })();\n",
      "    \n",
      "    \n",
      "    \n",
      "        var _adsSlot=[];\n",
      "        var advertData = [];\n",
      "    \n",
      "        googletag.cmd.push(function() {\n",
      "            var Delayed = function(executor) {\n",
      "                this._slots = [];\n",
      "                this._runInstantly = false;\n",
      "                this._executor = executor;\n",
      "                this.setOnload();\n",
      "            };\n",
      "    \n",
      "            Delayed.prototype.loadBanner = function(id) {\n",
      "                return this._executor(id);\n",
      "            }\n",
      "    \n",
      "            Delayed.prototype._onloadHandler = function(){\n",
      "                var slots = this._slots;\n",
      "                for (var i=0, l=slots.length; i<l; i++) {\n",
      "                    this.loadBanner(slots[i]);\n",
      "                }\n",
      "                this._runInstantly = true;\n",
      "            }\n",
      "    \n",
      "            Delayed.prototype.setOnload = function() {\n",
      "                var onload = this._onloadHandler.bind(this);\n",
      "                if ( document.addEventListener ) {\n",
      "                    window.addEventListener( \"load\", onload, false );\n",
      "                } else {\n",
      "                    window.attachEvent( \"onload\", onload );\n",
      "                }\n",
      "            }\n",
      "    \n",
      "            Delayed.prototype.push = function(id){\n",
      "                if (this._runInstantly === true) {\n",
      "                    return this.loadBanner(id);\n",
      "                }\n",
      "                this._slots.push(id);\n",
      "            }\n",
      "    \n",
      "            var decorator = function(func) {\n",
      "                var delayed = new Delayed(func);\n",
      "                return function (id) {\n",
      "                    if (id.substr(0, 3) === 'Bn_') {\n",
      "                        return delayed.push(id)\n",
      "                    }\n",
      "                    return func.apply(this, arguments);\n",
      "                }\n",
      "            };\n",
      "    \n",
      "            googletag.display = decorator(googletag.display);\n",
      "        });\n",
      "    \n",
      "        googletag.cmd.push(function() {\n",
      "            \n",
      "            _adsSlot[\"LB.Top.mobile.1\"]= googletag.defineSlot('/9728/IRR.RU/m.irr.ru/SUB_m.irr.ru/LB.Top.mobile.1', [320, 50], 'LB.Top.mobile.1').addService(googletag.pubads());\n",
      "            \n",
      "    \n",
      "            \n",
      "            googletag.pubads().setTargeting('adv_owner', 'debdicdjifaabueejiaajjiecfieche');\n",
      "            googletag.pubads().setTargeting('adv_smart', 'debdicdjifaabueejiaajjiecfieche');\n",
      "    \n",
      "    \t\n",
      "            googletag.pubads().setTargeting('gCity', 'irr.ru');\n",
      "            \n",
      "            \n",
      "            googletag.pubads().setTargeting('electronics', 'electronics-technics');\n",
      "            \n",
      "            if (typeof _montblanc != 'undefined') {\n",
      "                /*segments - sex, age, interests top100, custom interests*/\n",
      "                var segments = ['4i', 'c6', 'y1', 'bj'];\n",
      "                var rmbSegments = '';\n",
      "                for (var i=0, l=segments.length; i < l; i++) {\n",
      "                    var res = _montblanc.get(segments[i], '');\n",
      "                    rmbSegments += (res.length > 0) ? ',' + res.replace(/:/g, ',') : '';\n",
      "                }\n",
      "                googletag.pubads().setTargeting('Rmb_segments', rmbSegments.substr(1));\n",
      "            }\n",
      "            googletag.pubads().setTargeting('IP', '95.221.197.181');\n",
      "            \n",
      "            googletag.pubads().setTargeting('domain_zone', 'ru');\n",
      "            googletag.pubads().collapseEmptyDivs();\n",
      "    \n",
      "            var crtg_split = crtg_content.split(';');\n",
      "            for (var i = 1; i < crtg_split.length; i++) {\n",
      "                googletag.pubads().setTargeting(\"\" + (crtg_split[i - 1].split('='))[0] + \"\", \"\" + (crtg_split[i - 1].split('='))[1] + \"\");\n",
      "            }\n",
      "    \n",
      "            googletag.enableServices();\n",
      "        });\n",
      "    \n",
      "    \n",
      "    \n",
      "    \n",
      "    \n",
      "    \n",
      "       (function (d, w, c) {\n",
      "          (w[c] = w[c] || []).push(function() {\n",
      "             try {\n",
      "                w.yaCounter467657 = new Ya.Metrika({id:467657,\n",
      "    \t\t\t\t\twebvisor:true,\n",
      "    \t\t\t\t\tclickmap:true,\n",
      "    \t\t\t\t\ttrackLinks:true,\n",
      "    \t\t\t\t\taccurateTrackBounce:true});\n",
      "             } catch(e) { }\n",
      "          });\n",
      "    \n",
      "          var n = d.getElementsByTagName(\"script\")[0],\n",
      "             s = d.createElement(\"script\"),\n",
      "             f = function () { n.parentNode.insertBefore(s, n); };\n",
      "          s.type = \"text/javascript\";\n",
      "          s.async = true;\n",
      "          s.src = (d.location.protocol == \"https:\" ? \"https:\" : \"http:\") + \"//mc.yandex.ru/metrika/watch.js\";\n",
      "    \n",
      "          if (w.opera == \"[object Opera]\") {\n",
      "             d.addEventListener(\"DOMContentLoaded\", f, false);\n",
      "          } else { f(); }\n",
      "       })(document, window, \"yandex_metrika_callbacks\");\n",
      "    \n",
      "    <div><img src=\"//mc.yandex.ru/watch/4676570\" style=\"position:absolute; left:-9999px;\" alt=\"\" /></div>\n",
      "    \n",
      "    \n",
      "\n",
      "\n",
      "\n",
      "\n",
      "\n",
      "\n",
      "\n",
      "\n",
      "\t\n",
      "\t\t\n",
      "\t\t\t\n",
      "\t\t\t\t\n",
      "\t\t\t\n",
      "\t\t\n",
      "\t\tМосква и область\n",
      "\n",
      "\t\t\n",
      "\t\t\n",
      "\t\t\t\n",
      "\t\t\t\tИз рук в руки Москва\n",
      "\t\t\t\n",
      "\t\t\t\t>Электроника и техника\n",
      "\t\t\t\n",
      "\t\t\t\t>Игры, игровые приставки\n",
      "\t\t\t\n",
      "\t\t\t\t>Игровые приставки\n",
      "\t\t\t\n",
      "\t\t\n",
      "\t\t\n",
      "\t\n",
      "\n",
      "\t\n",
      "\t\n",
      "\t\t\n",
      "\t\t\t\n",
      "\t\t\t\t\n",
      "\t\t\t\t\t\n",
      "\t\t\t\t\t\t\n",
      "\t\t\t\t\t\n",
      "\t\t\t\t\t\n",
      "\t\t\t\t\t\t\n",
      "\t\t\t\t\t\n",
      "\t\t\t\t\n",
      "\t\t\t\t\n",
      "\t\t\t\t\n",
      "\t\t\t\t\t\n",
      "\t\t\t\t\t\t\n",
      "\t\t\t\t\t\t\t\n",
      "\t\t\t\t\t\t\tИскать в текущей категории\n",
      "\t\t\t\t\t\t\n",
      "\t\t\t\t\t\t/electronics-technics/games/game-consoles/\n",
      "\t\t\t\t\t\n",
      "\t\t\t\t\n",
      "\t\t\t\t\n",
      "\t\t\t\n",
      "\t\t\n",
      "\t\t\n",
      "\t\t\t\n",
      "\t\t\t\n",
      "\t\t\t\n",
      "\t\t\t\t\n",
      "\t\t\t\t\tgoogletag.cmd.push(function() { googletag.display('LB.Top.mobile.1'); });\n",
      "\t\t\t\t\n",
      "\t\t\t\n",
      "\t\t\t\n",
      "\t\t\n",
      "\t\n",
      "\t\n",
      "\n",
      "\n",
      "\n",
      "    \n",
      "        Принадлежность\n",
      "        \n",
      "            \n",
      "            \n",
      "                Все\n",
      "            \n",
      "                Магазины\n",
      "            \n",
      "                Частные\n",
      "            \n",
      "            \n",
      "        \n",
      "    \n",
      "    \n",
      "        Сортировать по\n",
      "        \n",
      "            \n",
      "                \n",
      "                дате (сначала старые)\n",
      "                \n",
      "                дате (сначала новые)\n",
      "                \n",
      "                релевантности\n",
      "                \n",
      "                цене (от меньшей к большей)\n",
      "                \n",
      "                цене (от большей к меньшей)\n",
      "                \n",
      "            \n",
      "        \n",
      "    \n",
      "\n",
      "\n",
      "\n",
      "\n",
      "\n",
      "\n",
      "\n",
      "    \n",
      "        \n",
      "            Продам: игровая приставка Microsoft\n",
      "            10 000 руб.\n",
      "        \n",
      "        \n",
      "        Москва\n",
      "    \n",
      "\n",
      "    \n",
      "        \n",
      "            Продам: игровая приставка Microsoft\n",
      "            14 000 руб.\n",
      "        \n",
      "        \n",
      "        Москва\n",
      "    \n",
      "\n",
      "    \n",
      "        \n",
      "            Продам: игровая приставка Microsoft\n",
      "            4 500 руб.\n",
      "        \n",
      "        \n",
      "        Москва\n",
      "    \n",
      "\n",
      "    \n",
      "        \n",
      "            Продам: игровая приставка Microsoft\n",
      "            16 000 руб.\n",
      "        \n",
      "        \n",
      "        Москва\n",
      "    \n",
      "\n",
      "    \n",
      "        \n",
      "            Продам: игровая приставка SEGA\n",
      "            1 000 руб.\n",
      "        \n",
      "        \n",
      "        Москва\n",
      "    \n",
      "\n",
      "    \n",
      "        \n",
      "            Продам: игровая приставка Microsoft\n",
      "            40 000 руб.\n",
      "        \n",
      "        \n",
      "        Москва\n",
      "    \n",
      "\n",
      "    \n",
      "        \n",
      "            Продам: игровая приставка Microsoft\n",
      "            9 500 руб.\n",
      "        \n",
      "        \n",
      "        Москва\n",
      "    \n",
      "\n",
      "    \n",
      "        \n",
      "            Продам: игровая приставка Microsoft\n",
      "            13 000 руб.\n",
      "        \n",
      "        \n",
      "        Москва\n",
      "    \n",
      "\n",
      "    \n",
      "        \n",
      "            Продам: игровая приставка Microsoft\n",
      "            9 500 руб.\n",
      "        \n",
      "        \n",
      "        Москва\n",
      "    \n",
      "\n",
      "    \n",
      "        \n",
      "            Продам: игровая приставка Microsoft\n",
      "            11 000 руб.\n",
      "        \n",
      "        \n",
      "        Москва\n",
      "    \n",
      "\n",
      "\n",
      "\n",
      "\n",
      "\tyandex_partner_id = 134659;\n",
      "\tyandex_site_bg_color = 'FFFFFF';\n",
      "\tyandex_stat_id = 1;\n",
      "\tyandex_ad_format = 'direct';\n",
      "\tyandex_font_size = 1;\n",
      "\tyandex_direct_type = 'vertical';\n",
      "\tyandex_direct_limit = 1;\n",
      "\tyandex_direct_title_font_size = 1;\n",
      "\tyandex_direct_links_underline = false;\n",
      "\tyandex_direct_header_bg_color = 'FEEAC7';\n",
      "\tyandex_direct_title_color = '000000';\n",
      "\tyandex_direct_url_color = '000000';\n",
      "\tyandex_direct_text_color = '000000';\n",
      "\tyandex_direct_hover_color = '000000';\n",
      "\tyandex_direct_sitelinks_color = '000000';\n",
      "\tyandex_direct_favicon = false;\n",
      "\tyandex_no_sitelinks = false;\n",
      "\tdocument.write('<scr' + 'ipt type=\"text/javascript\" src=\"//an.yandex.ru/system/context.js\"></scr' + 'ipt>');\n",
      "\n",
      "\n",
      "\n",
      "    Наверх\n",
      "\n",
      "\n",
      "\n",
      "    \n",
      "\n",
      "    \n",
      "    \n",
      "    \n",
      "    \n",
      "    1\n",
      "    \n",
      "    2\n",
      "    \n",
      "    \n",
      "    3\n",
      "    \n",
      "    \n",
      "    4\n",
      "    \n",
      "    \n",
      "    5\n",
      "    \n",
      "    \n",
      "    ...21\n",
      "    \n",
      "\n",
      "    \n",
      "    \n",
      "        Объявлений на странице\n",
      "        \n",
      "            102040\n",
      "        \n",
      "    \n",
      "    \n",
      "\n",
      "\n",
      "\n",
      "        \n",
      "            \n",
      "                Полная версия сайта\n",
      "                Условия и правила\n",
      "                Помощь\n",
      "            \n",
      "            © 2005-2013, OOO «Пронто-Москва».\n",
      "        \n",
      "    \n",
      "    \n",
      "    \n",
      "        [AD]\n",
      "    \n",
      "    \n",
      "\n",
      "\n"
     ]
    }
   ],
   "source": [
    "print soup123.text"
   ]
  },
  {
   "cell_type": "code",
   "execution_count": 77,
   "metadata": {
    "collapsed": false
   },
   "outputs": [
    {
     "data": {
      "text/plain": [
       "[]"
      ]
     },
     "execution_count": 77,
     "metadata": {},
     "output_type": "execute_result"
    }
   ],
   "source": [
    "soup.findAll('item-block')"
   ]
  },
  {
   "cell_type": "code",
   "execution_count": 64,
   "metadata": {
    "collapsed": false
   },
   "outputs": [
    {
     "data": {
      "text/plain": [
       "15"
      ]
     },
     "execution_count": 64,
     "metadata": {},
     "output_type": "execute_result"
    }
   ],
   "source": [
    "len(soup.findAll('span'))"
   ]
  },
  {
   "cell_type": "code",
   "execution_count": 44,
   "metadata": {
    "collapsed": false
   },
   "outputs": [
    {
     "ename": "IndexError",
     "evalue": "list index out of range",
     "output_type": "error",
     "traceback": [
      "\u001b[1;31m---------------------------------------------------------------------------\u001b[0m",
      "\u001b[1;31mIndexError\u001b[0m                                Traceback (most recent call last)",
      "\u001b[1;32m<ipython-input-44-86d243d004b9>\u001b[0m in \u001b[0;36m<module>\u001b[1;34m()\u001b[0m\n\u001b[1;32m----> 1\u001b[1;33m \u001b[0msoup\u001b[0m\u001b[1;33m.\u001b[0m\u001b[0mfindAll\u001b[0m\u001b[1;33m(\u001b[0m\u001b[1;34m'ads-listing-item'\u001b[0m\u001b[1;33m)\u001b[0m\u001b[1;33m[\u001b[0m\u001b[1;36m0\u001b[0m\u001b[1;33m]\u001b[0m\u001b[1;33m.\u001b[0m\u001b[0mtext\u001b[0m\u001b[1;33m\u001b[0m\u001b[0m\n\u001b[0m",
      "\u001b[1;31mIndexError\u001b[0m: list index out of range"
     ]
    }
   ],
   "source": [
    "soup.findAll('ads-listing-item')[0].text"
   ]
  },
  {
   "cell_type": "code",
   "execution_count": 74,
   "metadata": {
    "collapsed": false
   },
   "outputs": [
    {
     "name": "stdout",
     "output_type": "stream",
     "text": [
      "<a class=\"ads-listing-item\" href=\"http://m.irr.ru/electronics-technics/games/game-consoles/Prodam-igrovaya-pristavka-SEGA-advert527555125.html\">\n",
      "            <p class=\"ads-text\">Продам: игровая приставка SEGA</p>\n",
      "            <p class=\"ads-price\">1 000 руб.</p>\n",
      "        </a>\n"
     ]
    }
   ],
   "source": [
    "print soup.findAll('', {'class' : 'ads-listing-item'})[0]"
   ]
  },
  {
   "cell_type": "code",
   "execution_count": 82,
   "metadata": {
    "collapsed": false
   },
   "outputs": [],
   "source": [
    "href = soup.findAll('', {'class' : 'ads-listing-item'})"
   ]
  },
  {
   "cell_type": "code",
   "execution_count": 87,
   "metadata": {
    "collapsed": false
   },
   "outputs": [
    {
     "name": "stdout",
     "output_type": "stream",
     "text": [
      "<a class=\"ads-listing-item\" href=\"http://m.irr.ru/electronics-technics/games/game-consoles/Prodam-igrovaya-pristavka-SEGA-advert527555125.html\">\n",
      "            <p class=\"ads-text\">Продам: игровая приставка SEGA</p>\n",
      "            <p class=\"ads-price\">1 000 руб.</p>\n",
      "        </a>\n"
     ]
    }
   ],
   "source": [
    "print href[0]"
   ]
  },
  {
   "cell_type": "code",
   "execution_count": 202,
   "metadata": {
    "collapsed": false
   },
   "outputs": [
    {
     "name": "stdout",
     "output_type": "stream",
     "text": [
      "Found the URL: http://m.irr.ru/electronics-technics/games/game-consoles/Prodam-igrovaya-pristavka-SEGA-advert527555125.html\n",
      "Found the URL: http://m.irr.ru/electronics-technics/games/game-consoles/Prodam-igrovaya-pristavka-Microsoft-advert527547410.html\n",
      "Found the URL: http://m.irr.ru/electronics-technics/games/game-consoles/Prodam-igrovaya-pristavka-Microsoft-advert515662387.html\n",
      "Found the URL: http://m.irr.ru/electronics-technics/games/game-consoles/Prodam-igrovaya-pristavka-Microsoft-advert527527612.html\n",
      "Found the URL: http://m.irr.ru/electronics-technics/games/game-consoles/Prodam-igrovaya-pristavka-Microsoft-advert527366880.html\n",
      "Found the URL: http://m.irr.ru/electronics-technics/games/game-consoles/Prodam-igrovaya-pristavka-Microsoft-advert527351154.html\n",
      "Found the URL: http://m.irr.ru/electronics-technics/games/game-consoles/Obmenyayu-igrovaya-pristavka-Microsoft-advert527349904.html\n",
      "Found the URL: http://m.irr.ru/electronics-technics/games/game-consoles/Prodam-igrovaya-pristavka-Sony-advert527349051.html\n",
      "Found the URL: http://m.irr.ru/electronics-technics/games/game-consoles/Prodam-igrovaya-pristavka-Microsoft-advert527348513.html\n",
      "Found the URL: http://m.irr.ru/electronics-technics/games/game-consoles/Prodam-igrovaya-pristavka-Sony-advert527328516.html\n"
     ]
    }
   ],
   "source": [
    "for a in soup.find_all('a',{'class' : 'ads-listing-item'}, href=True):\n",
    "    print \"Found the URL:\", a['href']"
   ]
  },
  {
   "cell_type": "code",
   "execution_count": 93,
   "metadata": {
    "collapsed": false
   },
   "outputs": [],
   "source": [
    "url2=a['href']"
   ]
  },
  {
   "cell_type": "code",
   "execution_count": 94,
   "metadata": {
    "collapsed": false
   },
   "outputs": [
    {
     "name": "stdout",
     "output_type": "stream",
     "text": [
      "http://m.irr.ru/electronics-technics/games/game-consoles/Prodam-igrovaya-pristavka-Sony-advert527328516.html\n"
     ]
    }
   ],
   "source": [
    "print url2"
   ]
  },
  {
   "cell_type": "code",
   "execution_count": 112,
   "metadata": {
    "collapsed": true
   },
   "outputs": [],
   "source": [
    "response2= requests.get(url2)"
   ]
  },
  {
   "cell_type": "code",
   "execution_count": 113,
   "metadata": {
    "collapsed": false
   },
   "outputs": [
    {
     "data": {
      "text/plain": [
       "u'<?xml version=\"1.0\" encoding=\"UTF-8\"?>\\n<!DOCTYPE html PUBLIC \"-//WAPFORUM//DTD XHTML Mobile 1.2//EN\"\\n\\t\\t\"http://www.openmobilealliance.org/tech/DTD/xhtml-mobile12.dtd\">\\n\\n<html xmlns=\"http://www.w3.org/1999/xhtml\">\\n<head>\\n\\t<title>\\u041f\\u0440\\u043e\\u0434\\u0430\\u043c: \\u0438\\u0433\\u0440\\u043e\\u0432\\u0430\\u044f \\u043f\\u0440\\u0438\\u0441\\u0442\\u0430\\u0432\\u043a\\u0430 Sony, \\u041c\\u043e\\u0441\\u043a\\u0432\\u0430 - IRR.ru</title>\\n\\t<meta name=\"MobileOptimized\" content=\"240\" />\\n\\t<meta name=\"viewport\" content=\"width=device-width\" />\\n\\t<script src=\"https://s3.amazonaws.com/codiqa-cdn/jquery-1.7.2.min.js\"></script>\\n\\n\\t<link rel=\"stylesheet\" href=\"/site/css_dis/mobile_global.css\"/>\\n\\t<script src=\"/site/js_dis/jquery.cookie.js\"></script>\\n\\t<script src=\"/site/js_dis/mobile_global.js\"></script>\\n\\t<script src=\"/site/js_dis/scripts/lib/bannerUtil/bannerUtil.js\"></script>\\n</head>\\n<body>\\n    <!-- Google Analytics -->\\n    <script type=\"text/javascript\">\\n        var _gaq = _gaq || [];\\n        _gaq.push(\\n                [\\'_setAccount\\', \\'UA-19320369-1\\'],\\n                [\\'_setDomainName\\', \\'irr.ru\\'],\\n                [\\'_trackPageview\\']\\n        );\\n        (function() {\\n            var ga = document.createElement(\\'script\\'); ga.type = \\'text/javascript\\'; ga.async = true;\\n            ga.src = (\\'https:\\' == document.location.protocol ? \\'https://\\' : \\'http://\\') + \\'stats.g.doubleclick.net/dc.js\\';\\n            var s = document.getElementsByTagName(\\'script\\')[0]; s.parentNode.insertBefore(ga, s);\\n        })();\\n    </script>\\n    <!-- Google Analytics -->\\n    <!-- Google Analytics -->\\n    <script>\\n    \\t/*\\n    \\t(function(i,s,o,g,r,a,m){i[\\'GoogleAnalyticsObject\\']=r;i[r]=i[r]||function(){\\n    \\t\\t(i[r].q=i[r].q||[]).push(arguments)},i[r].l=1*new Date();a=s.createElement(o),\\n    \\t\\t\\tm=s.getElementsByTagName(o)[0];a.async=1;a.src=g;m.parentNode.insertBefore(a,m)\\n    \\t})(window,document,\\'script\\',\\'//www.google-analytics.com/analytics.js\\',\\'ga\\');\\n    \\tga(\\'create\\', \\'UA-19320369-2\\', \\'auto\\');\\n    \\tga(\\'require\\',\\'displayfeatures\\');\\n    \\n    \\tvar dimensionValue = \\'Guest\\';\\n    \\tga(\\'set\\',\\'dimension1\\', dimensionValue);\\n    \\tga(\\'send\\', \\'pageview\\');\\n    \\t*/\\n    </script>\\n    <!-- End Google Analytics -->\\n    \\n    <!--LiveInternet counter--><script type=\"text/javascript\"><!--\\r\\n    new Image().src = \"//counter.yadro.ru/hit;irr?r\"+\\r\\n            escape(document.referrer)+((typeof(screen)==\"undefined\")?\"\":\\r\\n            \";s\"+screen.width+\"*\"+screen.height+\"*\"+(screen.colorDepth?\\r\\n            screen.colorDepth:screen.pixelDepth))+\";u\"+escape(document.URL)+\\r\\n            \";\"+Math.random();//--></script><!--/LiveInternet-->\\n    \\n    <!-- JOB - RU - RTA - RUB - main rta script -->\\n    <script src=\"http://montblanc.rambler.ru/static/js/montblanc.js\"></script>\\n    <script type=\\'text/javascript\\'>\\n        var crtg_nid = \\'4018\\';\\n        var crtg_cookiename = \\'crtg_rta\\';\\n        var crtg_varname = \\'crtg_content\\';\\n        function crtg_getCookie(c_name){ var i,x,y,ARRCookies=document.cookie.split(\";\");for(i=0;i<ARRCookies.length;i++){x=ARRCookies[i].substr(0,ARRCookies[i].indexOf(\"=\"));y=ARRCookies[i].substr(ARRCookies[i].indexOf(\"=\")+1);x=x.replace(/^\\\\s+|\\\\s+$/g,\"\");if(x==c_name){return unescape(y);} }return\\'\\';}\\n        var crtg_content = crtg_getCookie(crtg_cookiename);\\n        var crtg_rnd=Math.floor(Math.random()*99999999999);\\n        (function(){\\n            var crtg_url=location.protocol+\\'//rtax.criteo.com/delivery/rta/rta.js?netId=\\'+escape(crtg_nid);\\n            crtg_url +=\\'&cookieName=\\'+escape(crtg_cookiename);\\n            crtg_url +=\\'&rnd=\\'+crtg_rnd;\\n            crtg_url +=\\'&varName=\\' + escape(crtg_varname);\\n            var crtg_script=document.createElement(\\'script\\');crtg_script.type=\\'text/javascript\\';crtg_script.src=crtg_url;crtg_script.async=true;\\n            if(document.getElementsByTagName(\"head\").length>0)document.getElementsByTagName(\"head\")[0].appendChild(crtg_script);\\n            else if(document.getElementsByTagName(\"body\").length>0)document.getElementsByTagName(\"body\")[0].appendChild(crtg_script);\\n        })();\\n    </script>\\n    \\n    <script type=\\'text/javascript\\'>\\n        var googletag = googletag || {};\\n        googletag.cmd = googletag.cmd || [];\\n        (function() {\\n            var gads = document.createElement(\\'script\\');\\n            gads.async = true;\\n            gads.type = \\'text/javascript\\';\\n            var useSSL = \\'https:\\' == document.location.protocol;\\n            gads.src = (useSSL ? \\'https:\\' : \\'http:\\') +\\n            \\'//www.googletagservices.com/tag/js/gpt.js\\';\\n            var node = document.getElementsByTagName(\\'script\\')[0];\\n            node.parentNode.insertBefore(gads, node);\\n        })();\\n    </script>\\n    \\n    <script type=\\'text/javascript\\'>\\n        var _adsSlot=[];\\n        var advertData = [];\\n    \\n        googletag.cmd.push(function() {\\n            var Delayed = function(executor) {\\n                this._slots = [];\\n                this._runInstantly = false;\\n                this._executor = executor;\\n                this.setOnload();\\n            };\\n    \\n            Delayed.prototype.loadBanner = function(id) {\\n                return this._executor(id);\\n            }\\n    \\n            Delayed.prototype._onloadHandler = function(){\\n                var slots = this._slots;\\n                for (var i=0, l=slots.length; i<l; i++) {\\n                    this.loadBanner(slots[i]);\\n                }\\n                this._runInstantly = true;\\n            }\\n    \\n            Delayed.prototype.setOnload = function() {\\n                var onload = this._onloadHandler.bind(this);\\n                if ( document.addEventListener ) {\\n                    window.addEventListener( \"load\", onload, false );\\n                } else {\\n                    window.attachEvent( \"onload\", onload );\\n                }\\n            }\\n    \\n            Delayed.prototype.push = function(id){\\n                if (this._runInstantly === true) {\\n                    return this.loadBanner(id);\\n                }\\n                this._slots.push(id);\\n            }\\n    \\n            var decorator = function(func) {\\n                var delayed = new Delayed(func);\\n                return function (id) {\\n                    if (id.substr(0, 3) === \\'Bn_\\') {\\n                        return delayed.push(id)\\n                    }\\n                    return func.apply(this, arguments);\\n                }\\n            };\\n    \\n            googletag.display = decorator(googletag.display);\\n        });\\n    \\n        googletag.cmd.push(function() {\\n            \\n            _adsSlot[\"LB.Top.mobile.1\"]= googletag.defineSlot(\\'/9728/IRR.RU/m.irr.ru/SUB_m.irr.ru/LB.Top.mobile.1\\', [320, 50], \\'LB.Top.mobile.1\\').addService(googletag.pubads());\\n            \\n    \\n            \\n            googletag.pubads().setTargeting(\\'adv_owner\\', \\'ifbcedgbbdbdetfgdbgoceaefdhdaf\\');\\n            googletag.pubads().setTargeting(\\'adv_smart\\', \\'debdicdjifaabueejiaajjiecfieche\\');\\n    \\n    \\t\\n            googletag.pubads().setTargeting(\\'gCity\\', \\'irr.ru\\');\\n            \\n            \\n            googletag.pubads().setTargeting(\\'electronics\\', \\'electronics-technics\\');\\n            \\n            if (typeof _montblanc != \\'undefined\\') {\\n                /*segments - sex, age, interests top100, custom interests*/\\n                var segments = [\\'4i\\', \\'c6\\', \\'y1\\', \\'bj\\'];\\n                var rmbSegments = \\'\\';\\n                for (var i=0, l=segments.length; i < l; i++) {\\n                    var res = _montblanc.get(segments[i], \\'\\');\\n                    rmbSegments += (res.length > 0) ? \\',\\' + res.replace(/:/g, \\',\\') : \\'\\';\\n                }\\n                googletag.pubads().setTargeting(\\'Rmb_segments\\', rmbSegments.substr(1));\\n            }\\n            googletag.pubads().setTargeting(\\'IP\\', \\'95.221.197.181\\');\\n            \\n            googletag.pubads().setTargeting(\\'domain_zone\\', \\'ru\\');\\n            googletag.pubads().collapseEmptyDivs();\\n    \\n            var crtg_split = crtg_content.split(\\';\\');\\n            for (var i = 1; i < crtg_split.length; i++) {\\n                googletag.pubads().setTargeting(\"\" + (crtg_split[i - 1].split(\\'=\\'))[0] + \"\", \"\" + (crtg_split[i - 1].split(\\'=\\'))[1] + \"\");\\n            }\\n    \\n            googletag.enableServices();\\n        });\\n    </script>\\n    \\n    \\n    \\n    <!-- Yandex.Metrika counter -->\\n    <script type=\"text/javascript\">\\n       (function (d, w, c) {\\n          (w[c] = w[c] || []).push(function() {\\n             try {\\n                w.yaCounter467657 = new Ya.Metrika({id:467657,\\n    \\t\\t\\t\\t\\twebvisor:true,\\n    \\t\\t\\t\\t\\tclickmap:true,\\n    \\t\\t\\t\\t\\ttrackLinks:true,\\n    \\t\\t\\t\\t\\taccurateTrackBounce:true});\\n             } catch(e) { }\\n          });\\n    \\n          var n = d.getElementsByTagName(\"script\")[0],\\n             s = d.createElement(\"script\"),\\n             f = function () { n.parentNode.insertBefore(s, n); };\\n          s.type = \"text/javascript\";\\n          s.async = true;\\n          s.src = (d.location.protocol == \"https:\" ? \"https:\" : \"http:\") + \"//mc.yandex.ru/metrika/watch.js\";\\n    \\n          if (w.opera == \"[object Opera]\") {\\n             d.addEventListener(\"DOMContentLoaded\", f, false);\\n          } else { f(); }\\n       })(document, window, \"yandex_metrika_callbacks\");\\n    </script>\\n    <noscript><div><img src=\"//mc.yandex.ru/watch/4676570\" style=\"position:absolute; left:-9999px;\" alt=\"\" /></div></noscript>\\n    <!-- /Yandex.Metrika counter -->\\n    \\n\\n<input type=\"hidden\" id=\"site_cookie_path\" value=\".m.irr.ru\" />\\n<input type=\"hidden\" id=\\'site_version_cookie_domain\\' value=\".irr.ru\">\\n<input type=\"hidden\" id=\"site_server_name\" value=\"http://m.irr.ru\" />\\n<input type=\"hidden\" id=\"address_string\" value=\"/\" />\\n\\n<div class=\"container\">\\n\\n\\t<div class=\"header\">\\n\\t\\t<h1 class=\"logo\">\\n\\t\\t\\t<a >\\n\\t\\t\\t\\t<img src=\"/site/pic_dis/logo_mobile.png\" height=\"24px\" width=\"106px\" alt=\"logo irr.ru\" />\\n\\t\\t\\t</a>\\n\\t\\t</h1>\\n\\t\\t<a class=\"choosen-region\" href=\"/wap_regions/\">\\u041c\\u043e\\u0441\\u043a\\u0432\\u0430 \\u0438 \\u043e\\u0431\\u043b\\u0430\\u0441\\u0442\\u044c</a>\\n\\n\\t\\t\\n\\t\\t<div class=\"breadcrumbs\">\\n\\t\\t\\t\\n\\t\\t\\t\\t<a href=\"/\">\\u0418\\u0437 \\u0440\\u0443\\u043a \\u0432 \\u0440\\u0443\\u043a\\u0438 \\u041c\\u043e\\u0441\\u043a\\u0432\\u0430</a>\\n\\t\\t\\t\\n\\t\\t\\t\\t<i>&#62;</i><a href=\"/electronics-technics/\">\\u042d\\u043b\\u0435\\u043a\\u0442\\u0440\\u043e\\u043d\\u0438\\u043a\\u0430 \\u0438 \\u0442\\u0435\\u0445\\u043d\\u0438\\u043a\\u0430</a>\\n\\t\\t\\t\\n\\t\\t\\t\\t<i>&#62;</i><a href=\"/electronics-technics/games/\">\\u0418\\u0433\\u0440\\u044b, \\u0438\\u0433\\u0440\\u043e\\u0432\\u044b\\u0435 \\u043f\\u0440\\u0438\\u0441\\u0442\\u0430\\u0432\\u043a\\u0438</a>\\n\\t\\t\\t\\n\\t\\t\\t\\t<i>&#62;</i><a href=\"/electronics-technics/games/game-consoles/\">\\u0418\\u0433\\u0440\\u043e\\u0432\\u044b\\u0435 \\u043f\\u0440\\u0438\\u0441\\u0442\\u0430\\u0432\\u043a\\u0438</a>\\n\\t\\t\\t\\n\\t\\t</div>\\n\\t\\t\\n\\t</div>\\n\\n\\t\\n\\t<div class=\"search\">\\n\\t\\t<form action=\"\" method=\"post\" onSubmit=\"search_f(); return false;\">\\n\\t\\t\\t<table width=\"100%\">\\n\\t\\t\\t\\t<tr>\\n\\t\\t\\t\\t\\t<td class=\"search-field\">\\n\\t\\t\\t\\t\\t\\t<input type=\"text\" placeholder=\"\" id=\"id_keywords\" name=\"keywords\" value=\"\" />\\n\\t\\t\\t\\t\\t</td>\\n\\t\\t\\t\\t\\t<td class=\"search-submit\">\\n\\t\\t\\t\\t\\t\\t<input type=\"submit\" value=\"\\u041d\\u0430\\u0439\\u0442\\u0438\" name=\"search\" />\\n\\t\\t\\t\\t\\t</td>\\n\\t\\t\\t\\t</tr>\\n\\t\\t\\t\\t\\n\\t\\t\\t\\t<tr>\\n\\t\\t\\t\\t\\t<td>\\n\\t\\t\\t\\t\\t\\t<label class=\"search-category\">\\n\\t\\t\\t\\t\\t\\t\\t<input type=\"checkbox\" id=\"look_there\"/>\\n\\t\\t\\t\\t\\t\\t\\t<span>\\u0418\\u0441\\u043a\\u0430\\u0442\\u044c \\u0432 \\u0442\\u0435\\u043a\\u0443\\u0449\\u0435\\u0439 \\u043a\\u0430\\u0442\\u0435\\u0433\\u043e\\u0440\\u0438\\u0438</span>\\n\\t\\t\\t\\t\\t\\t</label>\\n\\t\\t\\t\\t\\t\\t<span id=\"advert-rubric-uri\" style=\"display: none; visibility: hidden;\">/electronics-technics/games/game-consoles/</span>\\n\\t\\t\\t\\t\\t</td>\\n\\t\\t\\t\\t</tr>\\n\\t\\t\\t\\t\\n\\t\\t\\t</table>\\n\\t\\t</form>\\n\\t\\t<div>\\n\\t\\t\\t\\n\\t\\t\\t<!-- LB.Top.mobile.1 -->\\n\\t\\t\\t<div id=\"LB.Top.mobile.1\" class=\"LB_TOP_MOBILE_1\" group=\"\">\\n\\t\\t\\t\\t<script type=\\'text/javascript\\'>\\n\\t\\t\\t\\t\\tgoogletag.cmd.push(function() { googletag.display(\\'LB.Top.mobile.1\\'); });\\n\\t\\t\\t\\t</script>\\n\\t\\t\\t</div>\\n\\t\\t\\t\\n\\t\\t</div>\\n\\t</div>\\n\\t\\n\\n\\n\\n<div class=\"advert\">\\n\\t\\n\\n\\t<div class=\"item-block\">\\n\\t\\t<h3 class=\"item-title\" id=\"advert_title\"><strong>\\u041f\\u0440\\u043e\\u0434\\u0430\\u043c: \\u0438\\u0433\\u0440\\u043e\\u0432\\u0430\\u044f \\u043f\\u0440\\u0438\\u0441\\u0442\\u0430\\u0432\\u043a\\u0430 Sony</strong></h3>\\n\\n\\t\\t\\n\\t\\t\\t<span class=\"advert-price\">7&nbsp;500 \\u0440\\u0443\\u0431.</span>\\n\\t\\t\\t<br />\\n\\t\\t\\n\\n\\t\\t<span class=\"advert-date\">\\u0414\\u0430\\u0442\\u0430 \\u043f\\u043e\\u0434\\u0430\\u0447\\u0438: 17 \\u0434\\u0435\\u043a\\u0430\\u0431\\u0440\\u044f 2015</span><span class=\"advert-date\">\\u041e\\u0431\\u044a\\u044f\\u0432\\u043b\\u0435\\u043d\\u0438\\u0435 \\u2116 527328516</span><span class=\"advert-date\">\\u0418\\u0441\\u0442\\u043e\\u0447\\u043d\\u0438\\u043a \\u0427\\u0430\\u0441\\u0442\\u043d\\u043e\\u0435 \\u043e\\u0431\\u044a\\u044f\\u0432\\u043b\\u0435\\u043d\\u0438\\u0435</span>\\n\\t\\t<br />\\n\\n\\t\\t<div class=\"advert-buyer\">\\n\\t\\t\\t<div class=\"advetr-buyer-contacts\">\\n\\t\\t\\t\\t\\n\\t\\t            <span><img src= \\'http://monolith1.izrukvruki.ru/phones/ru/527328516/0/phone_wap/69f04d78395605ff6aac70df5c62987d.jpg\\' /></span>&nbsp;\\n\\t\\t            <span><img src= \\'http://monolith1.izrukvruki.ru/phones/ru/527328516/0/phone_add_wap/d48d885236ed2e5e5cf1583ca1a33b42.jpg\\' /></span>&nbsp;\\n\\t\\t            <span>\\u0410\\u043b\\u044c\\u0431\\u0438\\u043d\\u0430</span>\\n\\t\\t            <br />\\n\\t\\t        \\n\\t\\t\\n\\t\\t        \\n\\t\\t            <span><img src= \\'http://monolith1.izrukvruki.ru/phones/ru/527328516/0/phone2_wap/932fbb1bd4acf38b37a283ea373cbd09.jpg\\' /></span>&nbsp;\\n\\t\\t            <span><img src= \\'http://monolith1.izrukvruki.ru/phones/ru/527328516/0/phone_add2_wap/d1423314238512f9f937d3ea87d5fbaf.jpg\\' /></span>&nbsp;\\n\\t\\t            \\n\\t\\t            <br />\\n\\t\\t        \\n\\t\\t\\n\\t\\t\\t\\t\\n\\t\\t\\n\\t\\t\\t</div>\\n\\t\\t</div>\\n\\t\\t\\n\\t</div>\\n\\n\\t<div class=\"item-block\">\\n        <a class=\"link show\" href=\"/advert_photo/527328516/\">\\u041f\\u043e\\u043a\\u0430\\u0437\\u0430\\u0442\\u044c \\u0444\\u043e\\u0442\\u043e</a>\\n\\t\\t<p class=\"advert-text\">\\u041f\\u0440\\u0438\\u0441\\u0442\\u0430\\u0432\\u043a\\u0430 \\u0432 \\u043e\\u0442\\u043b\\u0438\\u0447\\u043d\\u043e\\u043c \\u0441\\u043e\\u0441\\u0442\\u043e\\u044f\\u043d\\u0438\\u0438 \\u0438 \\u043f\\u043e\\u0447\\u0442\\u0438 \\u043d\\u043e\\u0432\\u0430\\u044f, \\u0435\\u0439 \\u0432\\u0441\\u0435\\u0433\\u043e \\u043b\\u0438\\u0448\\u044c \\u0433\\u043e\\u0434+ \\u043a \\u043d\\u0435\\u0439 \\u0435\\u0441\\u0442\\u044c \\u0438\\u0433\\u0440\\u044b: gta5, FARCRY4, \\u0422\\u0440\\u0430\\u043d\\u0441\\u0444\\u043e\\u0440\\u043c\\u0435\\u0440\\u044b \\u043f\\u0430\\u0434\\u0435\\u043d\\u0438\\u0435 \\u043a\\u0438\\u0431\\u0435\\u0440\\u0442\\u0440\\u043e\\u043d\\u0430.</p>\\n\\t\\t\\n\\n\\t\\t<div class=\"advert-feature b-params\">\\n\\t\\t\\n\\t\\t\\n\\t\\t\\t<div id=\"main_customfields\">\\n\\t\\t\\t<h4>\\n\\t\\t\\t\\t<strong><span class=\"jToggleFeautures\">\\n\\t\\t\\t\\t\\t\\u041e\\u0441\\u043d\\u043e\\u0432\\u043d\\u044b\\u0435 \\u0445\\u0430\\u0440\\u0430\\u043a\\u0442\\u0435\\u0440\\u0438\\u0441\\u0442\\u043a\\u0438\\n\\t\\t\\t\\t</span></strong>\\n\\t\\t\\t</h4>\\n\\t\\t<table>\\n\\t\\t\\t<tbody>\\n\\t\\t\\t\\n\\t\\t\\t\\t<tr>\\n\\t\\t\\t\\t\\t<th><span>\\u0420\\u0435\\u0433\\u0438\\u043e\\u043d</span></th>\\n\\t\\t\\t\\t\\t<td>\\n\\t\\t\\t\\t\\t\\n\\t\\t\\t\\t\\t\\u041c\\u043e\\u0441\\u043a\\u0432\\u0430 \\n\\t\\t\\t\\t\\t\\n\\t\\t\\n\\t\\t\\t\\t\\t\\n\\t\\t\\t\\t\\t</td>\\n\\t\\t\\t\\t</tr>\\n\\t\\t\\t\\n\\t\\t\\t\\t<tr>\\n\\t\\t\\t\\t\\t<th><span>\\u041c\\u0430\\u0440\\u043a\\u0430</span></th>\\n\\t\\t\\t\\t\\t<td>\\n\\t\\t\\t\\t\\t\\n\\t\\t\\t\\t\\tSony \\n\\t\\t\\t\\t\\t\\n\\t\\t\\n\\t\\t\\t\\t\\t\\n\\t\\t\\t\\t\\t</td>\\n\\t\\t\\t\\t</tr>\\n\\t\\t\\t\\n\\t\\t\\t\\t<tr>\\n\\t\\t\\t\\t\\t<th><span>\\u0421\\u043e\\u0441\\u0442\\u043e\\u044f\\u043d\\u0438\\u0435</span></th>\\n\\t\\t\\t\\t\\t<td>\\n\\t\\t\\t\\t\\t\\n\\t\\t\\t\\t\\t\\u0431/\\u0443 \\n\\t\\t\\t\\t\\t\\n\\t\\t\\n\\t\\t\\t\\t\\t\\n\\t\\t\\t\\t\\t</td>\\n\\t\\t\\t\\t</tr>\\n\\t\\t\\t\\n\\t\\t\\t\\t<tr>\\n\\t\\t\\t\\t\\t<th><span>\\u0422\\u0438\\u043f \\u043f\\u0440\\u0435\\u0434\\u043b\\u043e\\u0436\\u0435\\u043d\\u0438\\u044f</span></th>\\n\\t\\t\\t\\t\\t<td>\\n\\t\\t\\t\\t\\t\\n\\t\\t\\t\\t\\t\\u043f\\u0440\\u043e\\u0434\\u0430\\u043c \\n\\t\\t\\t\\t\\t\\n\\t\\t\\n\\t\\t\\t\\t\\t\\n\\t\\t\\t\\t\\t</td>\\n\\t\\t\\t\\t</tr>\\n\\t\\t\\t\\n\\t\\t\\t</tbody>\\n\\t\\t</table>\\n\\t\\t\\t\\n\\t\\t\\t\\t<a class=\"link\" href=\"#\" id=\"customfields_switch\">\\u0412\\u0441\\u0435 \\u0445\\u0430\\u0440\\u0430\\u043a\\u0442\\u0435\\u0440\\u0438\\u0441\\u0442\\u0438\\u043a\\u0438</a>\\n\\t\\t\\t\\n\\t\\t\\t</div>\\n\\t\\t\\n\\t\\t\\n\\t\\t\\n\\t\\t<div id=\"all_customfields\"  style=\"display: none;\">\\n\\t\\t\\t<h4>\\n\\t\\t\\t\\t\\n\\t\\t\\t\\t\\t<strong><span id=\"customfields_switch_text\">\\u0412\\u0441\\u0435 \\u0445\\u0430\\u0440\\u0430\\u043a\\u0442\\u0435\\u0440\\u0438\\u0441\\u0442\\u0438\\u043a\\u0438</span></strong>\\n\\t\\t\\t\\t\\n\\t\\t\\t</h4>\\n\\t\\t<table>\\n\\t\\t\\t<tbody class=\"hproduct\">\\n\\t\\t\\t\\n\\t\\t\\t\\t\\n\\t\\t\\t\\t<tr>\\n\\t\\t\\t\\t\\t<td colspan=\"2\" class=\"boldTh\">\\u041f\\u0440\\u043e\\u0447\\u0435\\u0435</td>\\n\\t\\t\\t\\t</tr>\\n\\t\\t\\t\\t\\n\\t\\t\\n\\t\\t\\t\\t\\n\\t\\t\\t\\t\\t<tr>\\n\\t\\t\\t\\t\\t\\t<th><span>\\u041c\\u0430\\u0440\\u043a\\u0430</span></th>\\n\\t\\t\\t\\t\\t\\t<td>\\n\\t\\t\\t\\t\\t\\t\\n\\t\\t\\t\\t\\t\\t\\tSony \\n\\t\\t\\t\\t\\t\\t\\n\\t\\t\\n\\t\\t\\t\\t\\t\\t\\n\\t\\t\\t\\t\\t\\t</td>\\n\\t\\t\\t\\t\\t</tr>\\n\\t\\t\\t\\t\\n\\t\\t\\t\\t\\t<tr>\\n\\t\\t\\t\\t\\t\\t<th><span>\\u0421\\u043e\\u0441\\u0442\\u043e\\u044f\\u043d\\u0438\\u0435</span></th>\\n\\t\\t\\t\\t\\t\\t<td>\\n\\t\\t\\t\\t\\t\\t\\n\\t\\t\\t\\t\\t\\t\\t\\u0431/\\u0443 \\n\\t\\t\\t\\t\\t\\t\\n\\t\\t\\n\\t\\t\\t\\t\\t\\t\\n\\t\\t\\t\\t\\t\\t</td>\\n\\t\\t\\t\\t\\t</tr>\\n\\t\\t\\t\\t\\n\\t\\t\\t\\t\\t<tr>\\n\\t\\t\\t\\t\\t\\t<th><span>\\u0422\\u0438\\u043f \\u043f\\u0440\\u0435\\u0434\\u043b\\u043e\\u0436\\u0435\\u043d\\u0438\\u044f</span></th>\\n\\t\\t\\t\\t\\t\\t<td>\\n\\t\\t\\t\\t\\t\\t\\n\\t\\t\\t\\t\\t\\t\\t\\u043f\\u0440\\u043e\\u0434\\u0430\\u043c \\n\\t\\t\\t\\t\\t\\t\\n\\t\\t\\n\\t\\t\\t\\t\\t\\t\\n\\t\\t\\t\\t\\t\\t</td>\\n\\t\\t\\t\\t\\t</tr>\\n\\t\\t\\t\\t\\n\\t\\t\\t\\n\\t\\t\\t</tbody>\\n\\t\\t</table>\\n\\t\\t<a class=\"link\" href=\"#\" id=\"customfields_switch_main\">\\u041e\\u0441\\u043d\\u043e\\u0432\\u043d\\u044b\\u0435 \\u0445\\u0430\\u0440\\u0430\\u043a\\u0442\\u0435\\u0440\\u0438\\u0441\\u0442\\u0438\\u043a\\u0438</a>\\n\\t\\t</div>\\n\\t\\t\\n\\t\\t\\n\\t\\t\\n\\t\\t<br />\\n\\t\\t<a class=\"link\" href=\"#\" onclick=\"goTo(\\'.item-block\\');return false;\">\\u041d\\u0430\\u0432\\u0435\\u0440\\u0445</a>\\n\\t\\t\\n\\t\\t<!-- \\u042f\\u043d\\u0434\\u0435\\u043a\\u0441.\\u0414\\u0438\\u0440\\u0435\\u043a\\u0442 -->\\n\\t\\t<script type=\"text/javascript\">\\n\\t\\t\\tyandex_partner_id = 134659;\\n\\t\\t\\tyandex_site_bg_color = \\'FFFFFF\\';\\n\\t\\t\\tyandex_stat_id = 2;\\n\\t\\t\\tyandex_ad_format = \\'direct\\';\\n\\t\\t\\tyandex_font_size = 1;\\n\\t\\t\\tyandex_direct_type = \\'vertical\\';\\n\\t\\t\\tyandex_direct_limit = 1;\\n\\t\\t\\tyandex_direct_title_font_size = 1;\\n\\t\\t\\tyandex_direct_links_underline = false;\\n\\t\\t\\tyandex_direct_header_bg_color = \\'FEEAC7\\';\\n\\t\\t\\tyandex_direct_title_color = \\'000000\\';\\n\\t\\t\\tyandex_direct_url_color = \\'000000\\';\\n\\t\\t\\tyandex_direct_text_color = \\'000000\\';\\n\\t\\t\\tyandex_direct_hover_color = \\'000000\\';\\n\\t\\t\\tyandex_direct_sitelinks_color = \\'000000\\';\\n\\t\\t\\tyandex_direct_favicon = false;\\n\\t\\t\\tyandex_no_sitelinks = false;\\n\\t\\t\\tdocument.write(\\'<scr\\' + \\'ipt type=\"text/javascript\" src=\"//an.yandex.ru/system/context.js\"></scr\\' + \\'ipt>\\');\\n\\t\\t</script>\\n\\t</div>\\n\\n</div>\\n\\n        <div class=\"footer\">\\n            <ul class=\"footer__menu list\">\\n                <li><a onclick=\"handleSiteVersionChoice(this, \\'full\\'); return false;\" href=\"http://irr.ru/electronics-technics/games/game-consoles/Prodam-igrovaya-pristavka-Sony-advert527328516.html?auto_redirect=0\">\\u041f\\u043e\\u043b\\u043d\\u0430\\u044f \\u0432\\u0435\\u0440\\u0441\\u0438\\u044f \\u0441\\u0430\\u0439\\u0442\\u0430</a></li>\\n                <li><a href=\"http://m.irr.ru/terms/\">\\u0423\\u0441\\u043b\\u043e\\u0432\\u0438\\u044f \\u0438 \\u043f\\u0440\\u0430\\u0432\\u0438\\u043b\\u0430</a></li>\\n                <li><a href=\"http://m.irr.ru/help/aboutsite/\">\\u041f\\u043e\\u043c\\u043e\\u0449\\u044c</a></li>\\n            </ul>\\n            <p class=\"copyright\">&#169; 2005-2013, <a href=\"http://pronto-media.ru/\">OOO &#171;\\u041f\\u0440\\u043e\\u043d\\u0442\\u043e-\\u041c\\u043e\\u0441\\u043a\\u0432\\u0430&#187;</a>.</p>\\n        </div>\\n    </div>\\n    <!--LiveInternet logo-->\\n    <a href=\"http://www.liveinternet.ru/click;irr\" target=\"_blank\">\\n        <FONT size=\"1\">[AD]</FONT>\\n    </a>\\n    <!--/LiveInternet-->\\n</body>\\n</html>\\n<!--\\n\\tgeneratedBy: web6.irr.ru\\n-->'"
      ]
     },
     "execution_count": 113,
     "metadata": {},
     "output_type": "execute_result"
    }
   ],
   "source": [
    "response2.text"
   ]
  },
  {
   "cell_type": "code",
   "execution_count": 114,
   "metadata": {
    "collapsed": true
   },
   "outputs": [],
   "source": [
    "soup2 = BeautifulSoup(response2.text, \"html5lib\")"
   ]
  },
  {
   "cell_type": "code",
   "execution_count": 200,
   "metadata": {
    "collapsed": false
   },
   "outputs": [
    {
     "data": {
      "text/plain": [
       "5"
      ]
     },
     "execution_count": 200,
     "metadata": {},
     "output_type": "execute_result"
    }
   ],
   "source": [
    "k = soup2.findAll('img', {'' : ''}, src=True)\n",
    "\n",
    "len(k)\n",
    "\n",
    "\n"
   ]
  },
  {
   "cell_type": "code",
   "execution_count": 203,
   "metadata": {
    "collapsed": false
   },
   "outputs": [
    {
     "name": "stdout",
     "output_type": "stream",
     "text": [
      "/site/pic_dis/logo_mobile.png\n",
      "http://monolith1.izrukvruki.ru/phones/ru/527328516/0/phone_wap/69f04d78395605ff6aac70df5c62987d.jpg\n",
      "http://monolith1.izrukvruki.ru/phones/ru/527328516/0/phone_add_wap/d48d885236ed2e5e5cf1583ca1a33b42.jpg\n",
      "http://monolith1.izrukvruki.ru/phones/ru/527328516/0/phone2_wap/932fbb1bd4acf38b37a283ea373cbd09.jpg\n",
      "http://monolith1.izrukvruki.ru/phones/ru/527328516/0/phone_add2_wap/d1423314238512f9f937d3ea87d5fbaf.jpg\n"
     ]
    }
   ],
   "source": [
    "for img in soup2.findAll('img', {'' : ''}, src=True):\n",
    "    print img.get('src')"
   ]
  },
  {
   "cell_type": "code",
   "execution_count": 207,
   "metadata": {
    "collapsed": false
   },
   "outputs": [
    {
     "name": "stdout",
     "output_type": "stream",
     "text": [
      "/site/pic_dis/logo_mobile.png\n"
     ]
    }
   ],
   "source": [
    "img = soup2.findAll('img', {'' : ''}, src=True)\n",
    "print img[0].get('src')"
   ]
  },
  {
   "cell_type": "code",
   "execution_count": 220,
   "metadata": {
    "collapsed": false
   },
   "outputs": [
    {
     "name": "stdout",
     "output_type": "stream",
     "text": [
      "\n",
      "\t\t\t\n",
      "\t\t\t\t\n",
      "\t\t             \n",
      "\t\t             \n",
      "\t\t            Альбина\n",
      "\t\t            \n",
      "\t\t        \n",
      "\t\t\n",
      "\t\t        \n",
      "\t\t             \n",
      "\t\t             \n",
      "\t\t            \n",
      "\t\t            \n",
      "\t\t        \n",
      "\t\t\n",
      "\t\t\t\t\n",
      "\t\t\n",
      "\t\t\t\n",
      "\t\t\n"
     ]
    }
   ],
   "source": [
    "k = soup2.findAll('', {'class' : 'advert-buyer'})\n",
    "\n",
    "print k[0].text"
   ]
  },
  {
   "cell_type": "code",
   "execution_count": 105,
   "metadata": {
    "collapsed": true
   },
   "outputs": [],
   "source": [
    "for a in soup2.find_all('img',{'class' : 'advetr-buying-contact'}, src=True):\n",
    "    print \"Found the URL:\", img['src']"
   ]
  },
  {
   "cell_type": "code",
   "execution_count": 221,
   "metadata": {
    "collapsed": false
   },
   "outputs": [
    {
     "ename": "ImportError",
     "evalue": "No module named django.utils.encoding",
     "output_type": "error",
     "traceback": [
      "\u001b[1;31m---------------------------------------------------------------------------\u001b[0m",
      "\u001b[1;31mImportError\u001b[0m                               Traceback (most recent call last)",
      "\u001b[1;32m<ipython-input-221-da54e0234324>\u001b[0m in \u001b[0;36m<module>\u001b[1;34m()\u001b[0m\n\u001b[1;32m----> 1\u001b[1;33m \u001b[1;32mfrom\u001b[0m \u001b[0mdjango\u001b[0m\u001b[1;33m.\u001b[0m\u001b[0mutils\u001b[0m\u001b[1;33m.\u001b[0m\u001b[0mencoding\u001b[0m \u001b[1;32mimport\u001b[0m \u001b[0msmart_str\u001b[0m\u001b[1;33m,\u001b[0m \u001b[0msmart_unicode\u001b[0m\u001b[1;33m\u001b[0m\u001b[0m\n\u001b[0m",
      "\u001b[1;31mImportError\u001b[0m: No module named django.utils.encoding"
     ]
    }
   ],
   "source": [
    "from django.utils.encoding import smart_str, smart_unicode"
   ]
  },
  {
   "cell_type": "code",
   "execution_count": 241,
   "metadata": {
    "collapsed": true
   },
   "outputs": [],
   "source": [
    "string2 = ''\n",
    "string2 = 'acf'\n",
    "string2 = string2 + '1231231123'\n"
   ]
  },
  {
   "cell_type": "code",
   "execution_count": 242,
   "metadata": {
    "collapsed": false
   },
   "outputs": [
    {
     "data": {
      "text/plain": [
       "'acf1231231123'"
      ]
     },
     "execution_count": 242,
     "metadata": {},
     "output_type": "execute_result"
    }
   ],
   "source": [
    "string2\n"
   ]
  },
  {
   "cell_type": "code",
   "execution_count": 246,
   "metadata": {
    "collapsed": false
   },
   "outputs": [],
   "source": [
    "url_source = []\n",
    "url_source.append('sdfs')"
   ]
  },
  {
   "cell_type": "code",
   "execution_count": 28,
   "metadata": {
    "collapsed": false
   },
   "outputs": [
    {
     "ename": "RuntimeError",
     "evalue": "Could not find firefox in your system PATH. Please specify the firefox binary location or install firefox",
     "output_type": "error",
     "traceback": [
      "\u001b[1;31m---------------------------------------------------------------------------\u001b[0m",
      "\u001b[1;31mRuntimeError\u001b[0m                              Traceback (most recent call last)",
      "\u001b[1;32m<ipython-input-28-1b17e4e2e607>\u001b[0m in \u001b[0;36m<module>\u001b[1;34m()\u001b[0m\n\u001b[0;32m      2\u001b[0m \u001b[1;32mfrom\u001b[0m \u001b[0mselenium\u001b[0m\u001b[1;33m.\u001b[0m\u001b[0mwebdriver\u001b[0m\u001b[1;33m.\u001b[0m\u001b[0mcommon\u001b[0m\u001b[1;33m.\u001b[0m\u001b[0mkeys\u001b[0m \u001b[1;32mimport\u001b[0m \u001b[0mKeys\u001b[0m\u001b[1;33m\u001b[0m\u001b[0m\n\u001b[0;32m      3\u001b[0m \u001b[1;33m\u001b[0m\u001b[0m\n\u001b[1;32m----> 4\u001b[1;33m \u001b[0mdriver\u001b[0m \u001b[1;33m=\u001b[0m \u001b[0mwebdriver\u001b[0m\u001b[1;33m.\u001b[0m\u001b[0mFirefox\u001b[0m\u001b[1;33m(\u001b[0m\u001b[1;33m)\u001b[0m\u001b[1;33m\u001b[0m\u001b[0m\n\u001b[0m\u001b[0;32m      5\u001b[0m \u001b[0mdriver\u001b[0m\u001b[1;33m.\u001b[0m\u001b[0mget\u001b[0m\u001b[1;33m(\u001b[0m\u001b[0mself\u001b[0m\u001b[1;33m,\u001b[0m\u001b[1;34m\"http://www.python.org\"\u001b[0m\u001b[1;33m)\u001b[0m\u001b[1;33m\u001b[0m\u001b[0m\n\u001b[0;32m      6\u001b[0m \u001b[1;32massert\u001b[0m \u001b[1;34m\"Python\"\u001b[0m \u001b[1;32min\u001b[0m \u001b[0mdriver\u001b[0m\u001b[1;33m.\u001b[0m\u001b[0mtitle\u001b[0m\u001b[1;33m\u001b[0m\u001b[0m\n",
      "\u001b[1;32m/usr/local/lib/python2.7/dist-packages/selenium/webdriver/firefox/webdriver.pyc\u001b[0m in \u001b[0;36m__init__\u001b[1;34m(self, firefox_profile, firefox_binary, timeout, capabilities, proxy, executable_path)\u001b[0m\n\u001b[0;32m     68\u001b[0m             \u001b[1;31m# Oh well... sometimes the old way is the best way.\u001b[0m\u001b[1;33m\u001b[0m\u001b[1;33m\u001b[0m\u001b[0m\n\u001b[0;32m     69\u001b[0m             \u001b[1;32mif\u001b[0m \u001b[0mself\u001b[0m\u001b[1;33m.\u001b[0m\u001b[0mbinary\u001b[0m \u001b[1;32mis\u001b[0m \u001b[0mNone\u001b[0m\u001b[1;33m:\u001b[0m\u001b[1;33m\u001b[0m\u001b[0m\n\u001b[1;32m---> 70\u001b[1;33m                 \u001b[0mself\u001b[0m\u001b[1;33m.\u001b[0m\u001b[0mbinary\u001b[0m \u001b[1;33m=\u001b[0m \u001b[0mFirefoxBinary\u001b[0m\u001b[1;33m(\u001b[0m\u001b[1;33m)\u001b[0m\u001b[1;33m\u001b[0m\u001b[0m\n\u001b[0m\u001b[0;32m     71\u001b[0m \u001b[1;33m\u001b[0m\u001b[0m\n\u001b[0;32m     72\u001b[0m             \u001b[1;32mif\u001b[0m \u001b[0mproxy\u001b[0m \u001b[1;32mis\u001b[0m \u001b[1;32mnot\u001b[0m \u001b[0mNone\u001b[0m\u001b[1;33m:\u001b[0m\u001b[1;33m\u001b[0m\u001b[0m\n",
      "\u001b[1;32m/usr/local/lib/python2.7/dist-packages/selenium/webdriver/firefox/firefox_binary.pyc\u001b[0m in \u001b[0;36m__init__\u001b[1;34m(self, firefox_path, log_file)\u001b[0m\n\u001b[0;32m     45\u001b[0m         \u001b[0mself\u001b[0m\u001b[1;33m.\u001b[0m\u001b[0mcommand_line\u001b[0m \u001b[1;33m=\u001b[0m \u001b[0mNone\u001b[0m\u001b[1;33m\u001b[0m\u001b[0m\n\u001b[0;32m     46\u001b[0m         \u001b[1;32mif\u001b[0m \u001b[0mself\u001b[0m\u001b[1;33m.\u001b[0m\u001b[0m_start_cmd\u001b[0m \u001b[1;32mis\u001b[0m \u001b[0mNone\u001b[0m\u001b[1;33m:\u001b[0m\u001b[1;33m\u001b[0m\u001b[0m\n\u001b[1;32m---> 47\u001b[1;33m             \u001b[0mself\u001b[0m\u001b[1;33m.\u001b[0m\u001b[0m_start_cmd\u001b[0m \u001b[1;33m=\u001b[0m \u001b[0mself\u001b[0m\u001b[1;33m.\u001b[0m\u001b[0m_get_firefox_start_cmd\u001b[0m\u001b[1;33m(\u001b[0m\u001b[1;33m)\u001b[0m\u001b[1;33m\u001b[0m\u001b[0m\n\u001b[0m\u001b[0;32m     48\u001b[0m         \u001b[1;32mif\u001b[0m \u001b[1;32mnot\u001b[0m \u001b[0mself\u001b[0m\u001b[1;33m.\u001b[0m\u001b[0m_start_cmd\u001b[0m\u001b[1;33m.\u001b[0m\u001b[0mstrip\u001b[0m\u001b[1;33m(\u001b[0m\u001b[1;33m)\u001b[0m\u001b[1;33m:\u001b[0m\u001b[1;33m\u001b[0m\u001b[0m\n\u001b[0;32m     49\u001b[0m           raise Exception(\"Failed to find firefox binary. You can set it by specifying the path to 'firefox_binary':\\n\\nfrom selenium.webdriver.firefox.firefox_binary import FirefoxBinary\\n\\n\" +\n",
      "\u001b[1;32m/usr/local/lib/python2.7/dist-packages/selenium/webdriver/firefox/firefox_binary.pyc\u001b[0m in \u001b[0;36m_get_firefox_start_cmd\u001b[1;34m(self)\u001b[0m\n\u001b[0;32m    157\u001b[0m                 \u001b[1;31m# couldn't find firefox on the system path\u001b[0m\u001b[1;33m\u001b[0m\u001b[1;33m\u001b[0m\u001b[0m\n\u001b[0;32m    158\u001b[0m                 raise RuntimeError(\"Could not find firefox in your system PATH.\" +\n\u001b[1;32m--> 159\u001b[1;33m                     \" Please specify the firefox binary location or install firefox\")\n\u001b[0m\u001b[0;32m    160\u001b[0m         \u001b[1;32mreturn\u001b[0m \u001b[0mstart_cmd\u001b[0m\u001b[1;33m\u001b[0m\u001b[0m\n\u001b[0;32m    161\u001b[0m \u001b[1;33m\u001b[0m\u001b[0m\n",
      "\u001b[1;31mRuntimeError\u001b[0m: Could not find firefox in your system PATH. Please specify the firefox binary location or install firefox"
     ]
    }
   ],
   "source": [
    "from selenium import webdriver\n",
    "from selenium.webdriver.common.keys import Keys\n",
    "\n",
    "driver = webdriver.Firefox()\n",
    "driver.get(self,\"http://www.python.org\")\n",
    "assert \"Python\" in driver.title\n",
    "elem = driver.find_element_by_name(\"q\")\n",
    "elem.send_keys(\"pycon\")\n",
    "elem.send_keys(Keys.RETURN)\n",
    "assert \"No results found.\" not in driver.page_source\n",
    "driver.close()"
   ]
  },
  {
   "cell_type": "code",
   "execution_count": null,
   "metadata": {
    "collapsed": true
   },
   "outputs": [],
   "source": [
    "driver = webdriver.Chrome.get"
   ]
  },
  {
   "cell_type": "code",
   "execution_count": null,
   "metadata": {
    "collapsed": true
   },
   "outputs": [],
   "source": [
    "driver = webdriver.Chrome.get"
   ]
  },
  {
   "cell_type": "code",
   "execution_count": null,
   "metadata": {
    "collapsed": true
   },
   "outputs": [],
   "source": [
    "driver = webdriver.Chrome.get"
   ]
  },
  {
   "cell_type": "code",
   "execution_count": 29,
   "metadata": {
    "collapsed": false
   },
   "outputs": [
    {
     "ename": "WebDriverException",
     "evalue": "Message: 'chromedriver' executable needs to be in PATH. Please see https://sites.google.com/a/chromium.org/chromedriver/home\n",
     "output_type": "error",
     "traceback": [
      "\u001b[1;31m---------------------------------------------------------------------------\u001b[0m",
      "\u001b[1;31mWebDriverException\u001b[0m                        Traceback (most recent call last)",
      "\u001b[1;32m<ipython-input-29-925f49964376>\u001b[0m in \u001b[0;36m<module>\u001b[1;34m()\u001b[0m\n\u001b[0;32m      4\u001b[0m \u001b[0mchromedriver\u001b[0m \u001b[1;33m=\u001b[0m \u001b[1;34m\"/Users/adam/Downloads/chromedriver\"\u001b[0m\u001b[1;33m\u001b[0m\u001b[0m\n\u001b[0;32m      5\u001b[0m \u001b[0mos\u001b[0m\u001b[1;33m.\u001b[0m\u001b[0menviron\u001b[0m\u001b[1;33m[\u001b[0m\u001b[1;34m\"webdriver.chrome.driver\"\u001b[0m\u001b[1;33m]\u001b[0m \u001b[1;33m=\u001b[0m \u001b[0mchromedriver\u001b[0m\u001b[1;33m\u001b[0m\u001b[0m\n\u001b[1;32m----> 6\u001b[1;33m \u001b[0mdriver\u001b[0m \u001b[1;33m=\u001b[0m \u001b[0mwebdriver\u001b[0m\u001b[1;33m.\u001b[0m\u001b[0mChrome\u001b[0m\u001b[1;33m(\u001b[0m\u001b[0mchromedriver\u001b[0m\u001b[1;33m)\u001b[0m\u001b[1;33m\u001b[0m\u001b[0m\n\u001b[0m\u001b[0;32m      7\u001b[0m \u001b[0mdriver\u001b[0m\u001b[1;33m.\u001b[0m\u001b[0mget\u001b[0m\u001b[1;33m(\u001b[0m\u001b[1;34m\"http://stackoverflow.com\"\u001b[0m\u001b[1;33m)\u001b[0m\u001b[1;33m\u001b[0m\u001b[0m\n\u001b[0;32m      8\u001b[0m \u001b[0mdriver\u001b[0m\u001b[1;33m.\u001b[0m\u001b[0mquit\u001b[0m\u001b[1;33m(\u001b[0m\u001b[1;33m)\u001b[0m\u001b[1;33m\u001b[0m\u001b[0m\n",
      "\u001b[1;32m/usr/local/lib/python2.7/dist-packages/selenium/webdriver/chrome/webdriver.pyc\u001b[0m in \u001b[0;36m__init__\u001b[1;34m(self, executable_path, port, chrome_options, service_args, desired_capabilities, service_log_path)\u001b[0m\n\u001b[0;32m     59\u001b[0m         self.service = Service(executable_path, port=port,\n\u001b[0;32m     60\u001b[0m             service_args=service_args, log_path=service_log_path)\n\u001b[1;32m---> 61\u001b[1;33m         \u001b[0mself\u001b[0m\u001b[1;33m.\u001b[0m\u001b[0mservice\u001b[0m\u001b[1;33m.\u001b[0m\u001b[0mstart\u001b[0m\u001b[1;33m(\u001b[0m\u001b[1;33m)\u001b[0m\u001b[1;33m\u001b[0m\u001b[0m\n\u001b[0m\u001b[0;32m     62\u001b[0m \u001b[1;33m\u001b[0m\u001b[0m\n\u001b[0;32m     63\u001b[0m         \u001b[1;32mtry\u001b[0m\u001b[1;33m:\u001b[0m\u001b[1;33m\u001b[0m\u001b[0m\n",
      "\u001b[1;32m/usr/local/lib/python2.7/dist-packages/selenium/webdriver/chrome/service.pyc\u001b[0m in \u001b[0;36mstart\u001b[1;34m(self)\u001b[0m\n\u001b[0;32m     71\u001b[0m                 raise WebDriverException(\n\u001b[0;32m     72\u001b[0m                     \"'%s' executable needs to be in PATH. %s\" % (\n\u001b[1;32m---> 73\u001b[1;33m                         os.path.basename(self.path), docs_msg)\n\u001b[0m\u001b[0;32m     74\u001b[0m                 )\n\u001b[0;32m     75\u001b[0m             \u001b[1;32melif\u001b[0m \u001b[0merr\u001b[0m\u001b[1;33m.\u001b[0m\u001b[0merrno\u001b[0m \u001b[1;33m==\u001b[0m \u001b[0merrno\u001b[0m\u001b[1;33m.\u001b[0m\u001b[0mEACCES\u001b[0m\u001b[1;33m:\u001b[0m\u001b[1;33m\u001b[0m\u001b[0m\n",
      "\u001b[1;31mWebDriverException\u001b[0m: Message: 'chromedriver' executable needs to be in PATH. Please see https://sites.google.com/a/chromium.org/chromedriver/home\n"
     ]
    }
   ],
   "source": [
    "import os\n",
    "from selenium import webdriver\n",
    "\n",
    "chromedriver = \"/Users/adam/Downloads/chromedriver\"\n",
    "os.environ[\"webdriver.chrome.driver\"] = chromedriver\n",
    "driver = webdriver.Chrome(chromedriver)\n",
    "driver.get(\"http://stackoverflow.com\")\n",
    "driver.quit()"
   ]
  },
  {
   "cell_type": "code",
   "execution_count": 1,
   "metadata": {
    "collapsed": false
   },
   "outputs": [
    {
     "ename": "WebDriverException",
     "evalue": "Message: 'chromedriver' executable needs to be in PATH. Please see https://sites.google.com/a/chromium.org/chromedriver/home\n",
     "output_type": "error",
     "traceback": [
      "\u001b[1;31m---------------------------------------------------------------------------\u001b[0m",
      "\u001b[1;31mWebDriverException\u001b[0m                        Traceback (most recent call last)",
      "\u001b[1;32m<ipython-input-1-899169a8c25f>\u001b[0m in \u001b[0;36m<module>\u001b[1;34m()\u001b[0m\n\u001b[0;32m      2\u001b[0m \u001b[1;32mfrom\u001b[0m \u001b[0mselenium\u001b[0m \u001b[1;32mimport\u001b[0m \u001b[0mwebdriver\u001b[0m\u001b[1;33m\u001b[0m\u001b[0m\n\u001b[0;32m      3\u001b[0m \u001b[1;33m\u001b[0m\u001b[0m\n\u001b[1;32m----> 4\u001b[1;33m \u001b[0mdriver\u001b[0m \u001b[1;33m=\u001b[0m \u001b[0mwebdriver\u001b[0m\u001b[1;33m.\u001b[0m\u001b[0mChrome\u001b[0m\u001b[1;33m(\u001b[0m\u001b[1;33m)\u001b[0m  \u001b[1;31m# Optional argument, if not specified will search path.\u001b[0m\u001b[1;33m\u001b[0m\u001b[0m\n\u001b[0m\u001b[0;32m      5\u001b[0m \u001b[0mdriver\u001b[0m\u001b[1;33m.\u001b[0m\u001b[0mget\u001b[0m\u001b[1;33m(\u001b[0m\u001b[1;34m'http://www.google.com/xhtml'\u001b[0m\u001b[1;33m)\u001b[0m\u001b[1;33m;\u001b[0m\u001b[1;33m\u001b[0m\u001b[0m\n\u001b[0;32m      6\u001b[0m \u001b[0mtime\u001b[0m\u001b[1;33m.\u001b[0m\u001b[0msleep\u001b[0m\u001b[1;33m(\u001b[0m\u001b[1;36m5\u001b[0m\u001b[1;33m)\u001b[0m \u001b[1;31m# Let the user actually see something!\u001b[0m\u001b[1;33m\u001b[0m\u001b[0m\n",
      "\u001b[1;32m/usr/local/lib/python2.7/dist-packages/selenium/webdriver/chrome/webdriver.pyc\u001b[0m in \u001b[0;36m__init__\u001b[1;34m(self, executable_path, port, chrome_options, service_args, desired_capabilities, service_log_path)\u001b[0m\n\u001b[0;32m     59\u001b[0m         self.service = Service(executable_path, port=port,\n\u001b[0;32m     60\u001b[0m             service_args=service_args, log_path=service_log_path)\n\u001b[1;32m---> 61\u001b[1;33m         \u001b[0mself\u001b[0m\u001b[1;33m.\u001b[0m\u001b[0mservice\u001b[0m\u001b[1;33m.\u001b[0m\u001b[0mstart\u001b[0m\u001b[1;33m(\u001b[0m\u001b[1;33m)\u001b[0m\u001b[1;33m\u001b[0m\u001b[0m\n\u001b[0m\u001b[0;32m     62\u001b[0m \u001b[1;33m\u001b[0m\u001b[0m\n\u001b[0;32m     63\u001b[0m         \u001b[1;32mtry\u001b[0m\u001b[1;33m:\u001b[0m\u001b[1;33m\u001b[0m\u001b[0m\n",
      "\u001b[1;32m/usr/local/lib/python2.7/dist-packages/selenium/webdriver/chrome/service.pyc\u001b[0m in \u001b[0;36mstart\u001b[1;34m(self)\u001b[0m\n\u001b[0;32m     71\u001b[0m                 raise WebDriverException(\n\u001b[0;32m     72\u001b[0m                     \"'%s' executable needs to be in PATH. %s\" % (\n\u001b[1;32m---> 73\u001b[1;33m                         os.path.basename(self.path), docs_msg)\n\u001b[0m\u001b[0;32m     74\u001b[0m                 )\n\u001b[0;32m     75\u001b[0m             \u001b[1;32melif\u001b[0m \u001b[0merr\u001b[0m\u001b[1;33m.\u001b[0m\u001b[0merrno\u001b[0m \u001b[1;33m==\u001b[0m \u001b[0merrno\u001b[0m\u001b[1;33m.\u001b[0m\u001b[0mEACCES\u001b[0m\u001b[1;33m:\u001b[0m\u001b[1;33m\u001b[0m\u001b[0m\n",
      "\u001b[1;31mWebDriverException\u001b[0m: Message: 'chromedriver' executable needs to be in PATH. Please see https://sites.google.com/a/chromium.org/chromedriver/home\n"
     ]
    }
   ],
   "source": [
    "import time\n",
    "from selenium import webdriver\n",
    "\n",
    "driver = webdriver.Chrome()  # Optional argument, if not specified will search path.\n",
    "driver.get('http://www.google.com/xhtml');\n",
    "time.sleep(5) # Let the user actually see something!\n",
    "search_box = driver.find_element_by_name('q')\n",
    "search_box.send_keys('ChromeDriver')\n",
    "search_box.submit()\n",
    "time.sleep(5) # Let the user actually see something!\n",
    "driver.quit()"
   ]
  },
  {
   "cell_type": "code",
   "execution_count": 1,
   "metadata": {
    "collapsed": false
   },
   "outputs": [
    {
     "ename": "ImportError",
     "evalue": "No module named mechanize",
     "output_type": "error",
     "traceback": [
      "\u001b[1;31m---------------------------------------------------------------------------\u001b[0m",
      "\u001b[1;31mImportError\u001b[0m                               Traceback (most recent call last)",
      "\u001b[1;32m<ipython-input-1-3c9b08a87b14>\u001b[0m in \u001b[0;36m<module>\u001b[1;34m()\u001b[0m\n\u001b[0;32m      1\u001b[0m \u001b[1;32mimport\u001b[0m \u001b[0msys\u001b[0m\u001b[1;33m,\u001b[0m \u001b[0mtime\u001b[0m\u001b[1;33m,\u001b[0m \u001b[0mos\u001b[0m\u001b[1;33m\u001b[0m\u001b[0m\n\u001b[1;32m----> 2\u001b[1;33m \u001b[1;32mfrom\u001b[0m \u001b[0mmechanize\u001b[0m \u001b[1;32mimport\u001b[0m \u001b[0mBrowser\u001b[0m\u001b[1;33m\u001b[0m\u001b[0m\n\u001b[0m",
      "\u001b[1;31mImportError\u001b[0m: No module named mechanize"
     ]
    }
   ],
   "source": [
    "import sys, time, os\n",
    "from mechanize import Browser"
   ]
  },
  {
   "cell_type": "code",
   "execution_count": 1,
   "metadata": {
    "collapsed": true
   },
   "outputs": [],
   "source": [
    "import sys, time, os\n",
    "from mechanize import Browser"
   ]
  },
  {
   "cell_type": "code",
   "execution_count": 5,
   "metadata": {
    "collapsed": false
   },
   "outputs": [
    {
     "ename": "SyntaxError",
     "evalue": "invalid syntax (<ipython-input-5-7eb4e0f223a3>, line 52)",
     "output_type": "error",
     "traceback": [
      "\u001b[1;36m  File \u001b[1;32m\"<ipython-input-5-7eb4e0f223a3>\"\u001b[1;36m, line \u001b[1;32m52\u001b[0m\n\u001b[1;33m    out = open(result_%0' % result_no, 'w')\u001b[0m\n\u001b[1;37m                                       ^\u001b[0m\n\u001b[1;31mSyntaxError\u001b[0m\u001b[1;31m:\u001b[0m invalid syntax\n"
     ]
    }
   ],
   "source": [
    "import sys, time, os\n",
    "from mechanize import Browser\n",
    "\n",
    "LOGIN_URL = 'http://www.example.com/login'\n",
    "USERNAME = 'DavidMertz'\n",
    "PASSWORD = 'TheSpanishInquisition'\n",
    "SEARCH_URL = 'http://www.example.com/search?'\n",
    "FIXED_QUERY = 'food=spam&' 'utensil=spork&' 'date=the_future&'\n",
    "VARIABLE_QUERY = ['actor=%s' % actor for actor in\n",
    "        ('Graham Chapman',\n",
    "         'John Cleese',\n",
    "         'Terry Gilliam',\n",
    "         'Eric Idle',\n",
    "         'Terry Jones',\n",
    "         'Michael Palin')]\n",
    "\n",
    "def fetch():\n",
    "    result_no = 0                 # количество файлов с результатами\n",
    "    br = Browser()                # создаем браузер\n",
    "    br.open(LOGIN_URL)            # открываем страницу входа на сайт\n",
    "    br.select_form(name=\"login\")  # находим форму для ввода имени и пароля\n",
    "    br['username'] = USERNAME     # заполняем форму\n",
    "    br['password'] = PASSWORD\n",
    "    resp = br.submit()            # и нажимаем кнопку\n",
    "\n",
    "    # Автоматическое перенаправление иногда не срабатывает, поэтому \n",
    "    # при необходимости переходим вручную\n",
    "    if 'Redirecting' in br.title():\n",
    "        resp = br.follow_link(text_regex='click here')\n",
    "\n",
    "    # Обходим результаты поиска, сохраняя значения постоянных параметров\n",
    "    for actor in VARIABLE_QUERY:\n",
    "        # Мне нравится видеть в консоли, что делает скрипт\n",
    "        print >> sys.stderr, '***', actor\n",
    "        # Выполняем запрос\n",
    "        br.open(SEARCH_URL + FIXED_QUERY + actor)\n",
    "        # Запрос выдает нам ссылки на страницы с нужными нам данными\n",
    "        # но на странице имеются и ненужные ссылки, которые мы будем игнорировать\n",
    "        nice_links = [l for l in br.links()\n",
    "                        if 'good_path' in l.url\n",
    "                        and 'credential' in l.url]\n",
    "        if not nice_links:        # Возможно, что не окажется никаких результатов \n",
    "            break\n",
    "        for link in nice_links:\n",
    "            try:\n",
    "                response = br.follow_link(link)\n",
    "                # Пишем в консоль заголовок страницы, на которую мы переходим\n",
    "                print >> sys.stderr, br.title()\n",
    "                # инкрементируем номер в имени файла, открываем файл и записываем \n",
    "                # в него результат\n",
    "                result_no += 1\n",
    "                out = open(result_%0' % result_no, 'w')\n",
    "                print >> out, response.read()\n",
    "                out.close()\n",
    "            # Конечно, иногда могут случаться ошибки, мы будем их игнорировать\n",
    "            except mechanize._response.httperror_seek_wrapper:\n",
    "                print >> sys.stderr, \"Response error (probably 404)\"\n",
    "            # Не будем напрягать сайт слишком частыми запросами\n",
    "            time.sleep(1)"
   ]
  },
  {
   "cell_type": "code",
   "execution_count": 16,
   "metadata": {
    "collapsed": false
   },
   "outputs": [
    {
     "ename": "FormNotFoundError",
     "evalue": "no form matching name 'advertDtn js-showProductPhone red'",
     "output_type": "error",
     "traceback": [
      "\u001b[1;31m---------------------------------------------------------------------------\u001b[0m",
      "\u001b[1;31mFormNotFoundError\u001b[0m                         Traceback (most recent call last)",
      "\u001b[1;32m<ipython-input-16-58908115ef0d>\u001b[0m in \u001b[0;36m<module>\u001b[1;34m()\u001b[0m\n\u001b[0;32m      4\u001b[0m \u001b[0mbr\u001b[0m\u001b[1;33m.\u001b[0m\u001b[0mset_handle_robots\u001b[0m\u001b[1;33m(\u001b[0m\u001b[0mFalse\u001b[0m\u001b[1;33m)\u001b[0m\u001b[1;33m\u001b[0m\u001b[0m\n\u001b[0;32m      5\u001b[0m \u001b[0mbr\u001b[0m\u001b[1;33m.\u001b[0m\u001b[0mopen\u001b[0m\u001b[1;33m(\u001b[0m\u001b[1;34m'http://ekaterinburg.irr.ru/electronics-technics/games/game-consoles/Prodam-igrovaya-pristavka-Sony-advert525975402.html'\u001b[0m\u001b[1;33m)\u001b[0m            \u001b[1;31m# открываем страницу входа на сайт\u001b[0m\u001b[1;33m\u001b[0m\u001b[0m\n\u001b[1;32m----> 6\u001b[1;33m \u001b[0mbr\u001b[0m\u001b[1;33m.\u001b[0m\u001b[0mselect_form\u001b[0m\u001b[1;33m(\u001b[0m\u001b[1;34m\"advertDtn js-showProductPhone red\"\u001b[0m\u001b[1;33m)\u001b[0m\u001b[1;33m\u001b[0m\u001b[0m\n\u001b[0m\u001b[0;32m      7\u001b[0m \u001b[1;31m#resp = br.submit()\u001b[0m\u001b[1;33m\u001b[0m\u001b[1;33m\u001b[0m\u001b[0m\n",
      "\u001b[1;32m/usr/local/lib/python2.7/dist-packages/mechanize/_mechanize.pyc\u001b[0m in \u001b[0;36mselect_form\u001b[1;34m(self, name, predicate, nr)\u001b[0m\n\u001b[0;32m    522\u001b[0m             \u001b[1;32mif\u001b[0m \u001b[0morig_nr\u001b[0m \u001b[1;32mis\u001b[0m \u001b[1;32mnot\u001b[0m \u001b[0mNone\u001b[0m\u001b[1;33m:\u001b[0m \u001b[0mdescription\u001b[0m\u001b[1;33m.\u001b[0m\u001b[0mappend\u001b[0m\u001b[1;33m(\u001b[0m\u001b[1;34m\"nr %d\"\u001b[0m \u001b[1;33m%\u001b[0m \u001b[0morig_nr\u001b[0m\u001b[1;33m)\u001b[0m\u001b[1;33m\u001b[0m\u001b[0m\n\u001b[0;32m    523\u001b[0m             \u001b[0mdescription\u001b[0m \u001b[1;33m=\u001b[0m \u001b[1;34m\", \"\u001b[0m\u001b[1;33m.\u001b[0m\u001b[0mjoin\u001b[0m\u001b[1;33m(\u001b[0m\u001b[0mdescription\u001b[0m\u001b[1;33m)\u001b[0m\u001b[1;33m\u001b[0m\u001b[0m\n\u001b[1;32m--> 524\u001b[1;33m             \u001b[1;32mraise\u001b[0m \u001b[0mFormNotFoundError\u001b[0m\u001b[1;33m(\u001b[0m\u001b[1;34m\"no form matching \"\u001b[0m\u001b[1;33m+\u001b[0m\u001b[0mdescription\u001b[0m\u001b[1;33m)\u001b[0m\u001b[1;33m\u001b[0m\u001b[0m\n\u001b[0m\u001b[0;32m    525\u001b[0m \u001b[1;33m\u001b[0m\u001b[0m\n\u001b[0;32m    526\u001b[0m     \u001b[1;32mdef\u001b[0m \u001b[0mclick\u001b[0m\u001b[1;33m(\u001b[0m\u001b[0mself\u001b[0m\u001b[1;33m,\u001b[0m \u001b[1;33m*\u001b[0m\u001b[0margs\u001b[0m\u001b[1;33m,\u001b[0m \u001b[1;33m**\u001b[0m\u001b[0mkwds\u001b[0m\u001b[1;33m)\u001b[0m\u001b[1;33m:\u001b[0m\u001b[1;33m\u001b[0m\u001b[0m\n",
      "\u001b[1;31mFormNotFoundError\u001b[0m: no form matching name 'advertDtn js-showProductPhone red'"
     ]
    }
   ],
   "source": [
    "import sys, time, os\n",
    "from mechanize import Browser\n",
    "br = Browser()\n",
    "br.set_handle_robots(False)\n",
    "br.open('http://ekaterinburg.irr.ru/electronics-technics/games/game-consoles/Prodam-igrovaya-pristavka-Sony-advert525975402.html')            # открываем страницу входа на сайт\n",
    "br.select_form(\"advertDtn js-showProductPhone red\")\n",
    "#resp = br.submit()"
   ]
  },
  {
   "cell_type": "code",
   "execution_count": 6,
   "metadata": {
    "collapsed": false
   },
   "outputs": [
    {
     "name": "stdout",
     "output_type": "stream",
     "text": [
      "Yes, the official website was found!\n"
     ]
    }
   ],
   "source": [
    "import sys, time, os\n",
    "from splinter import Browser\n",
    "browser = Browser('firefox')\n",
    "url = \"http://www.google.com\"\n",
    "browser.visit(url)\n",
    "browser.fill('q', 'splinter - python acceptance testing for web applications')\n",
    "button = browser.find_by_name('btnG')\n",
    "button.click()\n",
    "if browser.is_text_present('splinter.readthedocs.org'):\n",
    "    print(\"Yes, the official website was found!\")\n",
    "else:\n",
    "    print(\"No, it wasn't found... We need to improve our SEO techniques\")"
   ]
  },
  {
   "cell_type": "code",
   "execution_count": 50,
   "metadata": {
    "collapsed": false
   },
   "outputs": [
    {
     "ename": "WebDriverException",
     "evalue": "Message: Can't load the profile. Profile Dir: %s If you specified a log_file in the FirefoxBinary constructor, check it for details.\n",
     "output_type": "error",
     "traceback": [
      "\u001b[1;31m---------------------------------------------------------------------------\u001b[0m",
      "\u001b[1;31mWebDriverException\u001b[0m                        Traceback (most recent call last)",
      "\u001b[1;32m<ipython-input-50-f980cb28736a>\u001b[0m in \u001b[0;36m<module>\u001b[1;34m()\u001b[0m\n\u001b[0;32m      1\u001b[0m \u001b[1;32mfrom\u001b[0m \u001b[0msplinter\u001b[0m \u001b[1;32mimport\u001b[0m \u001b[0mBrowser\u001b[0m\u001b[1;33m\u001b[0m\u001b[0m\n\u001b[0;32m      2\u001b[0m \u001b[0mbrowser\u001b[0m \u001b[1;33m=\u001b[0m \u001b[0mBrowser\u001b[0m\u001b[1;33m(\u001b[0m\u001b[1;34m'firefox'\u001b[0m\u001b[1;33m)\u001b[0m\u001b[1;33m\u001b[0m\u001b[0m\n\u001b[1;32m----> 3\u001b[1;33m \u001b[1;32mwith\u001b[0m \u001b[0mBrowser\u001b[0m\u001b[1;33m(\u001b[0m\u001b[1;33m)\u001b[0m \u001b[1;32mas\u001b[0m \u001b[0mbrowser\u001b[0m\u001b[1;33m:\u001b[0m\u001b[1;33m\u001b[0m\u001b[0m\n\u001b[0m\u001b[0;32m      4\u001b[0m     \u001b[1;31m# Visit URL\u001b[0m\u001b[1;33m\u001b[0m\u001b[1;33m\u001b[0m\u001b[0m\n\u001b[0;32m      5\u001b[0m     \u001b[0murl\u001b[0m \u001b[1;33m=\u001b[0m \u001b[1;34m\"http://ekaterinburg.irr.ru/electronics-technics/games/game-consoles/Prodam-igrovaya-pristavka-Sony-advert526845958.html\"\u001b[0m\u001b[1;33m\u001b[0m\u001b[0m\n",
      "\u001b[1;32m/usr/local/lib/python2.7/dist-packages/splinter/browser.pyc\u001b[0m in \u001b[0;36mBrowser\u001b[1;34m(driver_name, *args, **kwargs)\u001b[0m\n\u001b[0;32m     61\u001b[0m     \u001b[1;32mexcept\u001b[0m \u001b[0mKeyError\u001b[0m\u001b[1;33m:\u001b[0m\u001b[1;33m\u001b[0m\u001b[0m\n\u001b[0;32m     62\u001b[0m         \u001b[1;32mraise\u001b[0m \u001b[0mDriverNotFoundError\u001b[0m\u001b[1;33m(\u001b[0m\u001b[1;34m\"No driver for %s\"\u001b[0m \u001b[1;33m%\u001b[0m \u001b[0mdriver_name\u001b[0m\u001b[1;33m)\u001b[0m\u001b[1;33m\u001b[0m\u001b[0m\n\u001b[1;32m---> 63\u001b[1;33m     \u001b[1;32mreturn\u001b[0m \u001b[0mdriver\u001b[0m\u001b[1;33m(\u001b[0m\u001b[1;33m*\u001b[0m\u001b[0margs\u001b[0m\u001b[1;33m,\u001b[0m \u001b[1;33m**\u001b[0m\u001b[0mkwargs\u001b[0m\u001b[1;33m)\u001b[0m\u001b[1;33m\u001b[0m\u001b[0m\n\u001b[0m",
      "\u001b[1;32m/usr/local/lib/python2.7/dist-packages/splinter/driver/webdriver/firefox.pyc\u001b[0m in \u001b[0;36m__init__\u001b[1;34m(self, profile, extensions, user_agent, profile_preferences, fullscreen, wait_time)\u001b[0m\n\u001b[0;32m     37\u001b[0m                 \u001b[0mfirefox_profile\u001b[0m\u001b[1;33m.\u001b[0m\u001b[0madd_extension\u001b[0m\u001b[1;33m(\u001b[0m\u001b[0mextension\u001b[0m\u001b[1;33m)\u001b[0m\u001b[1;33m\u001b[0m\u001b[0m\n\u001b[0;32m     38\u001b[0m \u001b[1;33m\u001b[0m\u001b[0m\n\u001b[1;32m---> 39\u001b[1;33m         \u001b[0mself\u001b[0m\u001b[1;33m.\u001b[0m\u001b[0mdriver\u001b[0m \u001b[1;33m=\u001b[0m \u001b[0mFirefox\u001b[0m\u001b[1;33m(\u001b[0m\u001b[0mfirefox_profile\u001b[0m\u001b[1;33m)\u001b[0m\u001b[1;33m\u001b[0m\u001b[0m\n\u001b[0m\u001b[0;32m     40\u001b[0m \u001b[1;33m\u001b[0m\u001b[0m\n\u001b[0;32m     41\u001b[0m         \u001b[1;32mif\u001b[0m \u001b[0mfullscreen\u001b[0m\u001b[1;33m:\u001b[0m\u001b[1;33m\u001b[0m\u001b[0m\n",
      "\u001b[1;32m/usr/local/lib/python2.7/dist-packages/selenium/webdriver/firefox/webdriver.pyc\u001b[0m in \u001b[0;36m__init__\u001b[1;34m(self, firefox_profile, firefox_binary, timeout, capabilities, proxy, executable_path)\u001b[0m\n\u001b[0;32m     75\u001b[0m             RemoteWebDriver.__init__(self,\n\u001b[0;32m     76\u001b[0m             command_executor=ExtensionConnection(\"127.0.0.1\", self.profile,\n\u001b[1;32m---> 77\u001b[1;33m             self.binary, timeout),\n\u001b[0m\u001b[0;32m     78\u001b[0m             \u001b[0mdesired_capabilities\u001b[0m\u001b[1;33m=\u001b[0m\u001b[0mcapabilities\u001b[0m\u001b[1;33m,\u001b[0m\u001b[1;33m\u001b[0m\u001b[0m\n\u001b[0;32m     79\u001b[0m             keep_alive=True)\n",
      "\u001b[1;32m/usr/local/lib/python2.7/dist-packages/selenium/webdriver/firefox/extension_connection.pyc\u001b[0m in \u001b[0;36m__init__\u001b[1;34m(self, host, firefox_profile, firefox_binary, timeout)\u001b[0m\n\u001b[0;32m     47\u001b[0m         \u001b[0mself\u001b[0m\u001b[1;33m.\u001b[0m\u001b[0mprofile\u001b[0m\u001b[1;33m.\u001b[0m\u001b[0madd_extension\u001b[0m\u001b[1;33m(\u001b[0m\u001b[1;33m)\u001b[0m\u001b[1;33m\u001b[0m\u001b[0m\n\u001b[0;32m     48\u001b[0m \u001b[1;33m\u001b[0m\u001b[0m\n\u001b[1;32m---> 49\u001b[1;33m         \u001b[0mself\u001b[0m\u001b[1;33m.\u001b[0m\u001b[0mbinary\u001b[0m\u001b[1;33m.\u001b[0m\u001b[0mlaunch_browser\u001b[0m\u001b[1;33m(\u001b[0m\u001b[0mself\u001b[0m\u001b[1;33m.\u001b[0m\u001b[0mprofile\u001b[0m\u001b[1;33m)\u001b[0m\u001b[1;33m\u001b[0m\u001b[0m\n\u001b[0m\u001b[0;32m     50\u001b[0m         \u001b[0m_URL\u001b[0m \u001b[1;33m=\u001b[0m \u001b[1;34m\"http://%s:%d/hub\"\u001b[0m \u001b[1;33m%\u001b[0m \u001b[1;33m(\u001b[0m\u001b[0mHOST\u001b[0m\u001b[1;33m,\u001b[0m \u001b[0mPORT\u001b[0m\u001b[1;33m)\u001b[0m\u001b[1;33m\u001b[0m\u001b[0m\n\u001b[0;32m     51\u001b[0m         RemoteConnection.__init__(\n",
      "\u001b[1;32m/usr/local/lib/python2.7/dist-packages/selenium/webdriver/firefox/firefox_binary.pyc\u001b[0m in \u001b[0;36mlaunch_browser\u001b[1;34m(self, profile)\u001b[0m\n\u001b[0;32m     66\u001b[0m \u001b[1;33m\u001b[0m\u001b[0m\n\u001b[0;32m     67\u001b[0m         \u001b[0mself\u001b[0m\u001b[1;33m.\u001b[0m\u001b[0m_start_from_profile_path\u001b[0m\u001b[1;33m(\u001b[0m\u001b[0mself\u001b[0m\u001b[1;33m.\u001b[0m\u001b[0mprofile\u001b[0m\u001b[1;33m.\u001b[0m\u001b[0mpath\u001b[0m\u001b[1;33m)\u001b[0m\u001b[1;33m\u001b[0m\u001b[0m\n\u001b[1;32m---> 68\u001b[1;33m         \u001b[0mself\u001b[0m\u001b[1;33m.\u001b[0m\u001b[0m_wait_until_connectable\u001b[0m\u001b[1;33m(\u001b[0m\u001b[1;33m)\u001b[0m\u001b[1;33m\u001b[0m\u001b[0m\n\u001b[0m\u001b[0;32m     69\u001b[0m \u001b[1;33m\u001b[0m\u001b[0m\n\u001b[0;32m     70\u001b[0m     \u001b[1;32mdef\u001b[0m \u001b[0mkill\u001b[0m\u001b[1;33m(\u001b[0m\u001b[0mself\u001b[0m\u001b[1;33m)\u001b[0m\u001b[1;33m:\u001b[0m\u001b[1;33m\u001b[0m\u001b[0m\n",
      "\u001b[1;32m/usr/local/lib/python2.7/dist-packages/selenium/webdriver/firefox/firefox_binary.pyc\u001b[0m in \u001b[0;36m_wait_until_connectable\u001b[1;34m(self)\u001b[0m\n\u001b[0;32m    101\u001b[0m             \u001b[1;32mif\u001b[0m \u001b[0mcount\u001b[0m \u001b[1;33m==\u001b[0m \u001b[1;36m30\u001b[0m\u001b[1;33m:\u001b[0m\u001b[1;33m\u001b[0m\u001b[0m\n\u001b[0;32m    102\u001b[0m                 \u001b[0mself\u001b[0m\u001b[1;33m.\u001b[0m\u001b[0mkill\u001b[0m\u001b[1;33m(\u001b[0m\u001b[1;33m)\u001b[0m\u001b[1;33m\u001b[0m\u001b[0m\n\u001b[1;32m--> 103\u001b[1;33m                 raise WebDriverException(\"Can't load the profile. Profile \"\n\u001b[0m\u001b[0;32m    104\u001b[0m                       \u001b[1;34m\"Dir: %s If you specified a log_file in the \"\u001b[0m\u001b[1;33m\u001b[0m\u001b[0m\n\u001b[0;32m    105\u001b[0m                       \"FirefoxBinary constructor, check it for details.\")\n",
      "\u001b[1;31mWebDriverException\u001b[0m: Message: Can't load the profile. Profile Dir: %s If you specified a log_file in the FirefoxBinary constructor, check it for details.\n"
     ]
    }
   ],
   "source": [
    "from splinter import Browser\n",
    "browser = Browser('firefox')\n",
    "with Browser() as browser:\n",
    "    # Visit URL\n",
    "    url = \"http://ekaterinburg.irr.ru/electronics-technics/games/game-consoles/Prodam-igrovaya-pristavka-Sony-advert526845958.html\"\n",
    "    browser.visit(url)\n",
    "    #browser.fill('q', 'splinter - python acceptance testing for web applications')\n",
    "    # Find and click the 'search' button\n",
    "    #button = browser.find_by_name('advertBtn js-showProductPhone red')\n",
    "    #button = browser.find_by_css('.advertBtn.js-showProductPhone.red')\n",
    "    button = browser.find_by_css('.advertBtn.js-productWriteMessage')\n",
    "    #button = browser.find_by_tag('button')\n",
    "    # Interact with elements\n",
    "    button.first.click()\n",
    "    \n",
    "    if browser.is_text_present('963-37-01'):\n",
    "        print(\"Yes, the official website was found!\")\n",
    "    else:\n",
    "        print(\"No, it wasn't found... We need to improve our SEO techniques\")\n"
   ]
  },
  {
   "cell_type": "code",
   "execution_count": 16,
   "metadata": {
    "collapsed": false
   },
   "outputs": [
    {
     "data": {
      "text/plain": [
       "4"
      ]
     },
     "execution_count": 16,
     "metadata": {},
     "output_type": "execute_result"
    }
   ],
   "source": [
    "len(button)"
   ]
  },
  {
   "cell_type": "code",
   "execution_count": 36,
   "metadata": {
    "collapsed": false
   },
   "outputs": [
    {
     "data": {
      "text/plain": [
       "<bound method WebDriverElement.click of <splinter.driver.webdriver.WebDriverElement object at 0x7f5a20823310>>"
      ]
     },
     "execution_count": 36,
     "metadata": {},
     "output_type": "execute_result"
    }
   ],
   "source": [
    "button.first.click\n"
   ]
  },
  {
   "cell_type": "code",
   "execution_count": 2,
   "metadata": {
    "collapsed": false
   },
   "outputs": [
    {
     "ename": "ImportError",
     "evalue": "No module named webdriver",
     "output_type": "error",
     "traceback": [
      "\u001b[1;31m---------------------------------------------------------------------------\u001b[0m",
      "\u001b[1;31mImportError\u001b[0m                               Traceback (most recent call last)",
      "\u001b[1;32m<ipython-input-2-552d757ef438>\u001b[0m in \u001b[0;36m<module>\u001b[1;34m()\u001b[0m\n\u001b[1;32m----> 1\u001b[1;33m \u001b[1;32mimport\u001b[0m \u001b[0mwebdriver\u001b[0m\u001b[1;33m\u001b[0m\u001b[0m\n\u001b[0m\u001b[0;32m      2\u001b[0m \u001b[0mbrowser\u001b[0m \u001b[1;33m=\u001b[0m \u001b[0mwebdriver\u001b[0m\u001b[1;33m.\u001b[0m\u001b[0mFirefox\u001b[0m\u001b[1;33m(\u001b[0m\u001b[1;33m)\u001b[0m\u001b[1;33m\u001b[0m\u001b[0m\n",
      "\u001b[1;31mImportError\u001b[0m: No module named webdriver"
     ]
    }
   ],
   "source": [
    "import webdriver\n",
    "browser = webdriver.Firefox()"
   ]
  },
  {
   "cell_type": "code",
   "execution_count": 11,
   "metadata": {
    "collapsed": false
   },
   "outputs": [
    {
     "name": "stdout",
     "output_type": "stream",
     "text": [
      "No, it wasn't found... We need to improve our SEO techniques\n"
     ]
    },
    {
     "ename": "AttributeError",
     "evalue": "'WebDriver' object has no attribute 'close'",
     "output_type": "error",
     "traceback": [
      "\u001b[1;31m---------------------------------------------------------------------------\u001b[0m",
      "\u001b[1;31mAttributeError\u001b[0m                            Traceback (most recent call last)",
      "\u001b[1;32m<ipython-input-11-af639a463122>\u001b[0m in \u001b[0;36m<module>\u001b[1;34m()\u001b[0m\n\u001b[0;32m     23\u001b[0m         \u001b[1;32mprint\u001b[0m\u001b[1;33m(\u001b[0m\u001b[1;34m\"No, it wasn't found... We need to improve our SEO techniques\"\u001b[0m\u001b[1;33m)\u001b[0m\u001b[1;33m\u001b[0m\u001b[0m\n\u001b[0;32m     24\u001b[0m \u001b[1;33m\u001b[0m\u001b[0m\n\u001b[1;32m---> 25\u001b[1;33m \u001b[0mbrowser\u001b[0m\u001b[1;33m.\u001b[0m\u001b[0mclose\u001b[0m\u001b[1;33m(\u001b[0m\u001b[1;33m)\u001b[0m\u001b[1;33m\u001b[0m\u001b[0m\n\u001b[0m\u001b[0;32m     26\u001b[0m \u001b[0mdisplay\u001b[0m\u001b[1;33m.\u001b[0m\u001b[0mstop\u001b[0m\u001b[1;33m(\u001b[0m\u001b[1;33m)\u001b[0m\u001b[1;33m\u001b[0m\u001b[0m\n",
      "\u001b[1;31mAttributeError\u001b[0m: 'WebDriver' object has no attribute 'close'"
     ]
    }
   ],
   "source": [
    "from splinter import Browser\n",
    "from pyvirtualdisplay import Display\n",
    "from selenium import webdriver\n",
    "\n",
    "display = Display(visible=0, size=(1024, 768))\n",
    "display.start()\n",
    "\n",
    "\n",
    "with Browser() as browser:\n",
    "    # Visit URL\n",
    "    url = \"http://www.google.com\"\n",
    "    browser.visit(url)\n",
    "    browser.fill('q', 'splinter - python acceptance testing for web applications')\n",
    "    # Find and click the 'search' button\n",
    "    button = browser.find_by_name('btnG')\n",
    "    # Interact with elements\n",
    "    button.click()\n",
    "    \n",
    "    #if browser.is_text_present('pypi.python.org/pypi/splinter'):\n",
    "    if browser.is_text_present('1234'):\n",
    "        print(\"Yes, the official website was found!\")\n",
    "    else:\n",
    "        print(\"No, it wasn't found... We need to improve our SEO techniques\")\n",
    "\n",
    "browser.close()\n",
    "display.stop()"
   ]
  },
  {
   "cell_type": "code",
   "execution_count": null,
   "metadata": {
    "collapsed": true
   },
   "outputs": [],
   "source": []
  },
  {
   "cell_type": "code",
   "execution_count": 1,
   "metadata": {
    "collapsed": false
   },
   "outputs": [
    {
     "ename": "WebDriverException",
     "evalue": "Message: f.QueryInterface is not a function\nStacktrace:\n    at FirefoxDriver.prototype.get (file:///tmp/tmpSlRdrE/extensions/fxdriver@googlecode.com/components/driver-component.js:10523)\n    at DelayedCommand.prototype.executeInternal_/h (file:///tmp/tmpSlRdrE/extensions/fxdriver@googlecode.com/components/command-processor.js:12534)\n    at DelayedCommand.prototype.executeInternal_ (file:///tmp/tmpSlRdrE/extensions/fxdriver@googlecode.com/components/command-processor.js:12539)\n    at DelayedCommand.prototype.execute/< (file:///tmp/tmpSlRdrE/extensions/fxdriver@googlecode.com/components/command-processor.js:12481)",
     "output_type": "error",
     "traceback": [
      "\u001b[1;31m---------------------------------------------------------------------------\u001b[0m",
      "\u001b[1;31mWebDriverException\u001b[0m                        Traceback (most recent call last)",
      "\u001b[1;32m<ipython-input-1-66346a0aad6d>\u001b[0m in \u001b[0;36m<module>\u001b[1;34m()\u001b[0m\n\u001b[0;32m      8\u001b[0m \u001b[1;33m\u001b[0m\u001b[0m\n\u001b[0;32m      9\u001b[0m \u001b[0mbrowser\u001b[0m \u001b[1;33m=\u001b[0m \u001b[0mwebdriver\u001b[0m\u001b[1;33m.\u001b[0m\u001b[0mFirefox\u001b[0m\u001b[1;33m(\u001b[0m\u001b[1;33m)\u001b[0m\u001b[1;33m\u001b[0m\u001b[0m\n\u001b[1;32m---> 10\u001b[1;33m \u001b[0mbrowser\u001b[0m\u001b[1;33m.\u001b[0m\u001b[0mget\u001b[0m\u001b[1;33m(\u001b[0m\u001b[1;34m'button.advertBtn.js-showProductPhone.red'\u001b[0m\u001b[1;33m)\u001b[0m\u001b[1;33m\u001b[0m\u001b[0m\n\u001b[0m\u001b[0;32m     11\u001b[0m \u001b[1;32mprint\u001b[0m \u001b[0mbrowser\u001b[0m\u001b[1;33m.\u001b[0m\u001b[0mpage_source\u001b[0m\u001b[1;33m\u001b[0m\u001b[0m\n\u001b[0;32m     12\u001b[0m \u001b[1;33m\u001b[0m\u001b[0m\n",
      "\u001b[1;32m/usr/local/lib/python2.7/dist-packages/selenium/webdriver/remote/webdriver.pyc\u001b[0m in \u001b[0;36mget\u001b[1;34m(self, url)\u001b[0m\n\u001b[0;32m    211\u001b[0m         \u001b[0mLoads\u001b[0m \u001b[0ma\u001b[0m \u001b[0mweb\u001b[0m \u001b[0mpage\u001b[0m \u001b[1;32min\u001b[0m \u001b[0mthe\u001b[0m \u001b[0mcurrent\u001b[0m \u001b[0mbrowser\u001b[0m \u001b[0msession\u001b[0m\u001b[1;33m.\u001b[0m\u001b[1;33m\u001b[0m\u001b[0m\n\u001b[0;32m    212\u001b[0m         \"\"\"\n\u001b[1;32m--> 213\u001b[1;33m         \u001b[0mself\u001b[0m\u001b[1;33m.\u001b[0m\u001b[0mexecute\u001b[0m\u001b[1;33m(\u001b[0m\u001b[0mCommand\u001b[0m\u001b[1;33m.\u001b[0m\u001b[0mGET\u001b[0m\u001b[1;33m,\u001b[0m \u001b[1;33m{\u001b[0m\u001b[1;34m'url'\u001b[0m\u001b[1;33m:\u001b[0m \u001b[0murl\u001b[0m\u001b[1;33m}\u001b[0m\u001b[1;33m)\u001b[0m\u001b[1;33m\u001b[0m\u001b[0m\n\u001b[0m\u001b[0;32m    214\u001b[0m \u001b[1;33m\u001b[0m\u001b[0m\n\u001b[0;32m    215\u001b[0m     \u001b[1;33m@\u001b[0m\u001b[0mproperty\u001b[0m\u001b[1;33m\u001b[0m\u001b[0m\n",
      "\u001b[1;32m/usr/local/lib/python2.7/dist-packages/selenium/webdriver/remote/webdriver.pyc\u001b[0m in \u001b[0;36mexecute\u001b[1;34m(self, driver_command, params)\u001b[0m\n\u001b[0;32m    199\u001b[0m         \u001b[0mresponse\u001b[0m \u001b[1;33m=\u001b[0m \u001b[0mself\u001b[0m\u001b[1;33m.\u001b[0m\u001b[0mcommand_executor\u001b[0m\u001b[1;33m.\u001b[0m\u001b[0mexecute\u001b[0m\u001b[1;33m(\u001b[0m\u001b[0mdriver_command\u001b[0m\u001b[1;33m,\u001b[0m \u001b[0mparams\u001b[0m\u001b[1;33m)\u001b[0m\u001b[1;33m\u001b[0m\u001b[0m\n\u001b[0;32m    200\u001b[0m         \u001b[1;32mif\u001b[0m \u001b[0mresponse\u001b[0m\u001b[1;33m:\u001b[0m\u001b[1;33m\u001b[0m\u001b[0m\n\u001b[1;32m--> 201\u001b[1;33m             \u001b[0mself\u001b[0m\u001b[1;33m.\u001b[0m\u001b[0merror_handler\u001b[0m\u001b[1;33m.\u001b[0m\u001b[0mcheck_response\u001b[0m\u001b[1;33m(\u001b[0m\u001b[0mresponse\u001b[0m\u001b[1;33m)\u001b[0m\u001b[1;33m\u001b[0m\u001b[0m\n\u001b[0m\u001b[0;32m    202\u001b[0m             response['value'] = self._unwrap_value(\n\u001b[0;32m    203\u001b[0m                 response.get('value', None))\n",
      "\u001b[1;32m/usr/local/lib/python2.7/dist-packages/selenium/webdriver/remote/errorhandler.pyc\u001b[0m in \u001b[0;36mcheck_response\u001b[1;34m(self, response)\u001b[0m\n\u001b[0;32m    179\u001b[0m         \u001b[1;32melif\u001b[0m \u001b[0mexception_class\u001b[0m \u001b[1;33m==\u001b[0m \u001b[0mUnexpectedAlertPresentException\u001b[0m \u001b[1;32mand\u001b[0m \u001b[1;34m'alert'\u001b[0m \u001b[1;32min\u001b[0m \u001b[0mvalue\u001b[0m\u001b[1;33m:\u001b[0m\u001b[1;33m\u001b[0m\u001b[0m\n\u001b[0;32m    180\u001b[0m             \u001b[1;32mraise\u001b[0m \u001b[0mexception_class\u001b[0m\u001b[1;33m(\u001b[0m\u001b[0mmessage\u001b[0m\u001b[1;33m,\u001b[0m \u001b[0mscreen\u001b[0m\u001b[1;33m,\u001b[0m \u001b[0mstacktrace\u001b[0m\u001b[1;33m,\u001b[0m \u001b[0mvalue\u001b[0m\u001b[1;33m[\u001b[0m\u001b[1;34m'alert'\u001b[0m\u001b[1;33m]\u001b[0m\u001b[1;33m.\u001b[0m\u001b[0mget\u001b[0m\u001b[1;33m(\u001b[0m\u001b[1;34m'text'\u001b[0m\u001b[1;33m)\u001b[0m\u001b[1;33m)\u001b[0m\u001b[1;33m\u001b[0m\u001b[0m\n\u001b[1;32m--> 181\u001b[1;33m         \u001b[1;32mraise\u001b[0m \u001b[0mexception_class\u001b[0m\u001b[1;33m(\u001b[0m\u001b[0mmessage\u001b[0m\u001b[1;33m,\u001b[0m \u001b[0mscreen\u001b[0m\u001b[1;33m,\u001b[0m \u001b[0mstacktrace\u001b[0m\u001b[1;33m)\u001b[0m\u001b[1;33m\u001b[0m\u001b[0m\n\u001b[0m\u001b[0;32m    182\u001b[0m \u001b[1;33m\u001b[0m\u001b[0m\n\u001b[0;32m    183\u001b[0m     \u001b[1;32mdef\u001b[0m \u001b[0m_value_or_default\u001b[0m\u001b[1;33m(\u001b[0m\u001b[0mself\u001b[0m\u001b[1;33m,\u001b[0m \u001b[0mobj\u001b[0m\u001b[1;33m,\u001b[0m \u001b[0mkey\u001b[0m\u001b[1;33m,\u001b[0m \u001b[0mdefault\u001b[0m\u001b[1;33m)\u001b[0m\u001b[1;33m:\u001b[0m\u001b[1;33m\u001b[0m\u001b[0m\n",
      "\u001b[1;31mWebDriverException\u001b[0m: Message: f.QueryInterface is not a function\nStacktrace:\n    at FirefoxDriver.prototype.get (file:///tmp/tmpSlRdrE/extensions/fxdriver@googlecode.com/components/driver-component.js:10523)\n    at DelayedCommand.prototype.executeInternal_/h (file:///tmp/tmpSlRdrE/extensions/fxdriver@googlecode.com/components/command-processor.js:12534)\n    at DelayedCommand.prototype.executeInternal_ (file:///tmp/tmpSlRdrE/extensions/fxdriver@googlecode.com/components/command-processor.js:12539)\n    at DelayedCommand.prototype.execute/< (file:///tmp/tmpSlRdrE/extensions/fxdriver@googlecode.com/components/command-processor.js:12481)"
     ]
    }
   ],
   "source": [
    "#!/usr/bin/env python\n",
    "\n",
    "from pyvirtualdisplay import Display\n",
    "from selenium import webdriver\n",
    "\n",
    "display = Display(visible=0, size=(1024, 768))\n",
    "display.start()\n",
    "\n",
    "browser = webdriver.Firefox()\n",
    "browser.get('button.advertBtn.js-showProductPhone.red')\n",
    "print browser.page_source\n",
    "\n",
    "browser.close()\n",
    "display.stop()"
   ]
  },
  {
   "cell_type": "code",
   "execution_count": 2,
   "metadata": {
    "collapsed": false
   },
   "outputs": [],
   "source": [
    "dataphone=\"OCAoOTIyKSAwMjEtMzUtMjA=\""
   ]
  },
  {
   "cell_type": "code",
   "execution_count": 4,
   "metadata": {
    "collapsed": false
   },
   "outputs": [
    {
     "data": {
      "text/plain": [
       "'8 (922) 021-35-20'"
      ]
     },
     "execution_count": 4,
     "metadata": {},
     "output_type": "execute_result"
    }
   ],
   "source": [
    "dataphone.decode('base64')\n"
   ]
  },
  {
   "cell_type": "code",
   "execution_count": 7,
   "metadata": {
    "collapsed": false
   },
   "outputs": [
    {
     "data": {
      "text/plain": [
       "'8 (922) 021-35-20'"
      ]
     },
     "execution_count": 7,
     "metadata": {},
     "output_type": "execute_result"
    }
   ],
   "source": [
    "\"OCAoOTIyKSAwMjEtMzUtMjA=\".decode('base64')"
   ]
  },
  {
   "cell_type": "code",
   "execution_count": null,
   "metadata": {
    "collapsed": true
   },
   "outputs": [],
   "source": []
  }
 ],
 "metadata": {
  "kernelspec": {
   "display_name": "Python 2",
   "language": "python",
   "name": "python2"
  },
  "language_info": {
   "codemirror_mode": {
    "name": "ipython",
    "version": 2
   },
   "file_extension": ".py",
   "mimetype": "text/x-python",
   "name": "python",
   "nbconvert_exporter": "python",
   "pygments_lexer": "ipython2",
   "version": "2.7.6"
  }
 },
 "nbformat": 4,
 "nbformat_minor": 0
}
