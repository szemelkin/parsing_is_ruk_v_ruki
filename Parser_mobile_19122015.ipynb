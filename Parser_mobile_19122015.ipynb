{
 "cells": [
  {
   "cell_type": "code",
   "execution_count": 17,
   "metadata": {
    "collapsed": true
   },
   "outputs": [],
   "source": [
    "# -*- coding: utf-8 -*-\n",
    "\n",
    "from bs4 import BeautifulSoup\n",
    "import requests\n",
    "import time"
   ]
  },
  {
   "cell_type": "code",
   "execution_count": 18,
   "metadata": {
    "collapsed": false
   },
   "outputs": [
    {
     "ename": "SyntaxError",
     "evalue": "invalid syntax (<ipython-input-18-fd9293ec2d9a>, line 1)",
     "output_type": "error",
     "traceback": [
      "\u001b[1;36m  File \u001b[1;32m\"<ipython-input-18-fd9293ec2d9a>\"\u001b[1;36m, line \u001b[1;32m1\u001b[0m\n\u001b[1;33m    http://ekaterinburg.m.irr.ru\u001b[0m\n\u001b[1;37m        ^\u001b[0m\n\u001b[1;31mSyntaxError\u001b[0m\u001b[1;31m:\u001b[0m invalid syntax\n"
     ]
    }
   ],
   "source": [
    "http://ekaterinburg.m.irr.ru\n",
    "http://kazan.m.irr.ru\n",
    "http://krasnodar.m.irr.ru/\n",
    "http://novosibirsk.m.irr.ru/\n",
    "http://perm.m.irr.ru/\n",
    "http://samara.m.irr.ru/\n",
    "http://ufa.m.irr.ru/\n",
    "http://yaroslavl.m.irr.ru/\n",
    "http://tver.m.irr.ru/\n",
    "http://ivanovo.m.irr.ru/"
   ]
  },
  {
   "cell_type": "code",
   "execution_count": 19,
   "metadata": {
    "collapsed": false
   },
   "outputs": [
    {
     "ename": "SyntaxError",
     "evalue": "invalid syntax (<ipython-input-19-466a8927c67e>, line 1)",
     "output_type": "error",
     "traceback": [
      "\u001b[1;36m  File \u001b[1;32m\"<ipython-input-19-466a8927c67e>\"\u001b[1;36m, line \u001b[1;32m1\u001b[0m\n\u001b[1;33m    http://ekaterinburg.m.irr.ru/electronics-technics/games/game-consoles/search/tab=users/\u001b[0m\n\u001b[1;37m        ^\u001b[0m\n\u001b[1;31mSyntaxError\u001b[0m\u001b[1;31m:\u001b[0m invalid syntax\n"
     ]
    }
   ],
   "source": [
    "http://ekaterinburg.m.irr.ru/electronics-technics/games/game-consoles/search/tab=users/\n",
    "http://ekaterinburg.m.irr.ru/children/baby-furniture/baby-bed/search/tab=users/\n",
    "http://ekaterinburg.m.irr.ru/apparel-footwear/accessories-men-women/watches/search/tab=users/\n",
    "http://ekaterinburg.m.irr.ru/apparel-footwear/accessories-men-women/bags/search/tab=users/\n",
    "http://ekaterinburg.m.irr.ru/apparel-footwear/accessories-men-women/other/search/tab=users/"
   ]
  },
  {
   "cell_type": "code",
   "execution_count": 21,
   "metadata": {
    "collapsed": false
   },
   "outputs": [
    {
     "ename": "SyntaxError",
     "evalue": "invalid syntax (<ipython-input-21-646721cd5762>, line 1)",
     "output_type": "error",
     "traceback": [
      "\u001b[1;36m  File \u001b[1;32m\"<ipython-input-21-646721cd5762>\"\u001b[1;36m, line \u001b[1;32m1\u001b[0m\n\u001b[1;33m    http://ivanovo.m.irr.ru/electronics-technics/games/game-consoles/search/page2/\u001b[0m\n\u001b[1;37m        ^\u001b[0m\n\u001b[1;31mSyntaxError\u001b[0m\u001b[1;31m:\u001b[0m invalid syntax\n"
     ]
    }
   ],
   "source": [
    "http://ivanovo.m.irr.ru/electronics-technics/games/game-consoles/search/page2/"
   ]
  },
  {
   "cell_type": "code",
   "execution_count": 22,
   "metadata": {
    "collapsed": false
   },
   "outputs": [
    {
     "name": "stdout",
     "output_type": "stream",
     "text": [
      "http://www.ekaterinburg.m.irr.ru/electronics-technics/games/game-consoles/search/tab=users/\n",
      "http://www.ekaterinburg.m.irr.ru/electronics-technics/games/game-consoles/search/tab=users/page1/\n",
      "http://www.ekaterinburg.m.irr.ru/electronics-technics/games/game-consoles/search/tab=users/page2/\n"
     ]
    }
   ],
   "source": [
    "city = \"ekaterinburg\"\n",
    "type_of_goods = \"electronics-technics/games/game-consoles\"\n",
    "type_of_seller = \"search/tab=users\"\n",
    "pages_deep = 2\n",
    "url_for_request = 'http://www.'+city +'.m.irr.ru'+'/'+type_of_goods+'/'+type_of_seller\n",
    "url_source = []\n",
    "url_source.append(url_for_request+\"/\")\n",
    "print url_source[0]\n",
    "\n",
    "for i in xrange(1,3):\n",
    "    url_source.append(url_for_request+'/page'+str(i)+\"/\")\n",
    "    print url_source[i]"
   ]
  },
  {
   "cell_type": "code",
   "execution_count": 25,
   "metadata": {
    "collapsed": false
   },
   "outputs": [
    {
     "name": "stdout",
     "output_type": "stream",
     "text": [
      "0\n",
      "1\n",
      "2\n"
     ]
    }
   ],
   "source": [
    "text_file = open(\"Irvr_parse.txt\", \"w\")\n",
    "text_file.close()\n",
    "    \n",
    "def parse(url_source_for_function):\n",
    "    soup = BeautifulSoup(requests.get(url_source_for_function).text, \"html5lib\")\n",
    "    url_of_details = soup.findAll('a',{'class' : 'ads-listing-item'}, href=True)    \n",
    "    comm_inf=soup.findAll('a', {'class' : 'ads-listing-item'})\n",
    "    ads_text=soup.findAll('', {'class' : 'ads-text'})\n",
    "    ads_price=soup.findAll('', {'class' : 'ads-price'})\n",
    "    ads_region=soup.findAll('', {'class' : 'ads-region'})\n",
    "\n",
    "\n",
    "    for ind in xrange(0,len(url_of_details)):\n",
    "\n",
    "        #print ads_text[ind].text\n",
    "        #print ads_price[ind].text\n",
    "        #print ads_region[ind].text\n",
    "        #print url_of_details[ind].get('href')\n",
    "\n",
    "        string_to_file = ''\n",
    "        string_to_file = ads_text[ind].text.strip().encode('cp1251')+';'\n",
    "        string_to_file = string_to_file+ads_price[ind].text.strip().encode('cp1251')+';'\n",
    "        string_to_file = string_to_file+ads_region[ind].text.strip().encode('cp1251')+';'\n",
    "\n",
    "        response2= requests.get(url_of_details[ind].get('href'))\n",
    "        soup2 = BeautifulSoup(response2.text, \"html5lib\")\n",
    "        name = soup2.findAll('', {'class' : 'advert-buyer'})\n",
    "        #print name[0].text.strip()\n",
    "        string_to_file = string_to_file.strip() + name[0].text.strip().encode('cp1251') + ';'\n",
    "\n",
    "        for img in soup2.findAll('img', {'' : ''}, src=True):\n",
    "            #print img.get('src').strip()\n",
    "            string_to_file = string_to_file.strip() + img.get('src').strip().encode('utf-8') + ';'\n",
    "\n",
    "        text_file = open(\"Irvr_parse.txt\", \"a\")\n",
    "        text_file.write(string_to_file.strip() + '\\n')\n",
    "        text_file.close()    \n",
    "        \n",
    "for j in xrange(0,len(url_source)):\n",
    "    parse(url_source[j])\n",
    "    time.sleep(5)\n",
    "    print j"
   ]
  },
  {
   "cell_type": "code",
   "execution_count": null,
   "metadata": {
    "collapsed": false
   },
   "outputs": [],
   "source": [
    "\n"
   ]
  },
  {
   "cell_type": "code",
   "execution_count": null,
   "metadata": {
    "collapsed": true
   },
   "outputs": [],
   "source": []
  }
 ],
 "metadata": {
  "kernelspec": {
   "display_name": "Python 2",
   "language": "python",
   "name": "python2"
  },
  "language_info": {
   "codemirror_mode": {
    "name": "ipython",
    "version": 2
   },
   "file_extension": ".py",
   "mimetype": "text/x-python",
   "name": "python",
   "nbconvert_exporter": "python",
   "pygments_lexer": "ipython2",
   "version": "2.7.6"
  }
 },
 "nbformat": 4,
 "nbformat_minor": 0
}
